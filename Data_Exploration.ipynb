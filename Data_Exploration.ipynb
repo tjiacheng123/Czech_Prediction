{
 "cells": [
  {
   "cell_type": "markdown",
   "id": "cb67596d",
   "metadata": {},
   "source": [
    "# Loan Prediction\n",
    "This notebook is a documentation of the process of predicting the loan taken up for the bank customers. It includes the data transformation and data exploration process.\n",
    "<br/>\n",
    "\n",
    "The prediction model can be found in the loan prediction modelling jupyter file.\n",
    "<br>\n",
    "### Table of Content\n",
    "1. Import Libraries and Datasets\n",
    "2. Preliminary Data Exploration\n",
    "3. Preprocessing Loan Dataset\n",
    "4. Preprocessing Transaction Dataset\n",
    "5. Merging transaction and Loan Dataset\n",
    "6. Extracting Information From Transaction Dataset\n",
    "7. Functions\n",
    "8. Creating Final Dataset\n",
    "9. Data Exploration\n",
    "10. Exporting Final dataset\n"
   ]
  },
  {
   "cell_type": "markdown",
   "id": "17040182",
   "metadata": {},
   "source": [
    "# 1. Import libraries and datasets"
   ]
  },
  {
   "cell_type": "code",
   "execution_count": 183,
   "id": "2095f254",
   "metadata": {},
   "outputs": [],
   "source": [
    "import pandas as pd\n",
    "import numpy as np\n",
    "from datetime import datetime\n",
    "import pandasql as ps\n",
    "from datetime import date\n",
    "\n",
    "# Data exploration\n",
    "import matplotlib.pyplot as plt\n",
    "import seaborn as sns\n",
    "%matplotlib inline"
   ]
  },
  {
   "cell_type": "code",
   "execution_count": 184,
   "id": "a1fc0455",
   "metadata": {},
   "outputs": [],
   "source": [
    "loans = pd.read_csv(\"loan_rev2.csv\")\n",
    "trans = pd.read_csv(\"trans_rev2.csv\")\n",
    "disp = pd.read_csv(\"disp_rev2.csv\")\n",
    "client = pd.read_csv(\"client_rev2.csv\")\n",
    "district = pd.read_csv(\"district_rev2.csv\")"
   ]
  },
  {
   "cell_type": "markdown",
   "id": "d6ca1234",
   "metadata": {},
   "source": [
    "# 2. Preliminary Data Exploration\n",
    "From our rudimentary data exploration, we find that 1 client will have a unique client id and disp id. There are lesser accounts than clients which shows that there are clients that are sharing the same account. Only owners can issue permanent orders and ask for a loan. As we are predicting loan taken up, we are only concerned with the owners as they are the decision makers of the account. Further data exploration will be available once we have merged the various datasets together."
   ]
  },
  {
   "cell_type": "code",
   "execution_count": 185,
   "id": "51b2e0fd",
   "metadata": {
    "scrolled": true
   },
   "outputs": [
    {
     "data": {
      "text/plain": [
       "trans_id      1048575\n",
       "account_id       4500\n",
       "date             2179\n",
       "type                3\n",
       "operation           5\n",
       "amount          40236\n",
       "balance        540033\n",
       "k_symbol            8\n",
       "bank               13\n",
       "account          7665\n",
       "dtype: int64"
      ]
     },
     "execution_count": 185,
     "metadata": {},
     "output_type": "execute_result"
    }
   ],
   "source": [
    "trans.nunique()"
   ]
  },
  {
   "cell_type": "code",
   "execution_count": 186,
   "id": "75faaffc",
   "metadata": {},
   "outputs": [
    {
     "data": {
      "text/plain": [
       "loan_id       682\n",
       "account_id    682\n",
       "date          559\n",
       "amount        645\n",
       "duration        5\n",
       "payments      577\n",
       "status          4\n",
       "dtype: int64"
      ]
     },
     "execution_count": 186,
     "metadata": {},
     "output_type": "execute_result"
    }
   ],
   "source": [
    "loans.nunique()"
   ]
  },
  {
   "cell_type": "code",
   "execution_count": 187,
   "id": "17b311fd",
   "metadata": {
    "scrolled": true
   },
   "outputs": [
    {
     "data": {
      "text/plain": [
       "disp_id       5369\n",
       "client_id     5369\n",
       "account_id    4500\n",
       "type             2\n",
       "dtype: int64"
      ]
     },
     "execution_count": 187,
     "metadata": {},
     "output_type": "execute_result"
    }
   ],
   "source": [
    "disp.nunique()"
   ]
  },
  {
   "cell_type": "code",
   "execution_count": 188,
   "id": "6300f6a2",
   "metadata": {},
   "outputs": [
    {
     "name": "stdout",
     "output_type": "stream",
     "text": [
      "<class 'pandas.core.frame.DataFrame'>\n",
      "RangeIndex: 5369 entries, 0 to 5368\n",
      "Data columns (total 4 columns):\n",
      " #   Column      Non-Null Count  Dtype \n",
      "---  ------      --------------  ----- \n",
      " 0   disp_id     5369 non-null   int64 \n",
      " 1   client_id   5369 non-null   int64 \n",
      " 2   account_id  5369 non-null   int64 \n",
      " 3   type        5369 non-null   object\n",
      "dtypes: int64(3), object(1)\n",
      "memory usage: 167.9+ KB\n"
     ]
    }
   ],
   "source": [
    "disp.info()"
   ]
  },
  {
   "cell_type": "code",
   "execution_count": 189,
   "id": "3c5bbfaf",
   "metadata": {},
   "outputs": [
    {
     "name": "stdout",
     "output_type": "stream",
     "text": [
      "<class 'pandas.core.frame.DataFrame'>\n",
      "RangeIndex: 5369 entries, 0 to 5368\n",
      "Data columns (total 3 columns):\n",
      " #   Column        Non-Null Count  Dtype\n",
      "---  ------        --------------  -----\n",
      " 0   client_id     5369 non-null   int64\n",
      " 1   birth_number  5369 non-null   int64\n",
      " 2   district_id   5369 non-null   int64\n",
      "dtypes: int64(3)\n",
      "memory usage: 126.0 KB\n"
     ]
    }
   ],
   "source": [
    "client.info()"
   ]
  },
  {
   "cell_type": "markdown",
   "id": "715910e1",
   "metadata": {},
   "source": [
    "# 3. Preprocessing Loan Dataset\n",
    "The loan dataset does not have the account id and we will have to import it in from the disp table. We will also parse the date into date time format and check if there are clients that have taken up multiple loans. From our analysis, there are no clients that have taken up multiple loans."
   ]
  },
  {
   "cell_type": "code",
   "execution_count": 190,
   "id": "5ee9eece",
   "metadata": {},
   "outputs": [
    {
     "data": {
      "text/html": [
       "<div>\n",
       "<style scoped>\n",
       "    .dataframe tbody tr th:only-of-type {\n",
       "        vertical-align: middle;\n",
       "    }\n",
       "\n",
       "    .dataframe tbody tr th {\n",
       "        vertical-align: top;\n",
       "    }\n",
       "\n",
       "    .dataframe thead th {\n",
       "        text-align: right;\n",
       "    }\n",
       "</style>\n",
       "<table border=\"1\" class=\"dataframe\">\n",
       "  <thead>\n",
       "    <tr style=\"text-align: right;\">\n",
       "      <th></th>\n",
       "      <th>loan_id</th>\n",
       "      <th>account_id</th>\n",
       "      <th>date</th>\n",
       "      <th>amount</th>\n",
       "      <th>duration</th>\n",
       "      <th>payments</th>\n",
       "      <th>status</th>\n",
       "    </tr>\n",
       "  </thead>\n",
       "  <tbody>\n",
       "    <tr>\n",
       "      <th>0</th>\n",
       "      <td>5314</td>\n",
       "      <td>1787</td>\n",
       "      <td>930705</td>\n",
       "      <td>96396</td>\n",
       "      <td>12</td>\n",
       "      <td>8033</td>\n",
       "      <td>B</td>\n",
       "    </tr>\n",
       "    <tr>\n",
       "      <th>1</th>\n",
       "      <td>5316</td>\n",
       "      <td>1801</td>\n",
       "      <td>930711</td>\n",
       "      <td>165960</td>\n",
       "      <td>36</td>\n",
       "      <td>4610</td>\n",
       "      <td>A</td>\n",
       "    </tr>\n",
       "    <tr>\n",
       "      <th>2</th>\n",
       "      <td>6863</td>\n",
       "      <td>9188</td>\n",
       "      <td>930728</td>\n",
       "      <td>127080</td>\n",
       "      <td>60</td>\n",
       "      <td>2118</td>\n",
       "      <td>A</td>\n",
       "    </tr>\n",
       "    <tr>\n",
       "      <th>3</th>\n",
       "      <td>5325</td>\n",
       "      <td>1843</td>\n",
       "      <td>930803</td>\n",
       "      <td>105804</td>\n",
       "      <td>36</td>\n",
       "      <td>2939</td>\n",
       "      <td>A</td>\n",
       "    </tr>\n",
       "    <tr>\n",
       "      <th>4</th>\n",
       "      <td>7240</td>\n",
       "      <td>11013</td>\n",
       "      <td>930906</td>\n",
       "      <td>274740</td>\n",
       "      <td>60</td>\n",
       "      <td>4579</td>\n",
       "      <td>A</td>\n",
       "    </tr>\n",
       "  </tbody>\n",
       "</table>\n",
       "</div>"
      ],
      "text/plain": [
       "   loan_id  account_id    date  amount  duration  payments status\n",
       "0     5314        1787  930705   96396        12      8033      B\n",
       "1     5316        1801  930711  165960        36      4610      A\n",
       "2     6863        9188  930728  127080        60      2118      A\n",
       "3     5325        1843  930803  105804        36      2939      A\n",
       "4     7240       11013  930906  274740        60      4579      A"
      ]
     },
     "execution_count": 190,
     "metadata": {},
     "output_type": "execute_result"
    }
   ],
   "source": [
    "loans.head()"
   ]
  },
  {
   "cell_type": "code",
   "execution_count": 191,
   "id": "8501c707",
   "metadata": {},
   "outputs": [],
   "source": [
    "loans_rev = pd.merge(loans, disp[disp['type']=='OWNER'], on = 'account_id', how='inner')"
   ]
  },
  {
   "cell_type": "code",
   "execution_count": 192,
   "id": "a22dc599",
   "metadata": {},
   "outputs": [
    {
     "data": {
      "text/html": [
       "<div>\n",
       "<style scoped>\n",
       "    .dataframe tbody tr th:only-of-type {\n",
       "        vertical-align: middle;\n",
       "    }\n",
       "\n",
       "    .dataframe tbody tr th {\n",
       "        vertical-align: top;\n",
       "    }\n",
       "\n",
       "    .dataframe thead th {\n",
       "        text-align: right;\n",
       "    }\n",
       "</style>\n",
       "<table border=\"1\" class=\"dataframe\">\n",
       "  <thead>\n",
       "    <tr style=\"text-align: right;\">\n",
       "      <th></th>\n",
       "      <th>loan_id</th>\n",
       "      <th>account_id</th>\n",
       "      <th>date</th>\n",
       "      <th>amount</th>\n",
       "      <th>duration</th>\n",
       "      <th>payments</th>\n",
       "      <th>status</th>\n",
       "      <th>disp_id</th>\n",
       "      <th>client_id</th>\n",
       "      <th>type</th>\n",
       "    </tr>\n",
       "  </thead>\n",
       "  <tbody>\n",
       "    <tr>\n",
       "      <th>0</th>\n",
       "      <td>5314</td>\n",
       "      <td>1787</td>\n",
       "      <td>930705</td>\n",
       "      <td>96396</td>\n",
       "      <td>12</td>\n",
       "      <td>8033</td>\n",
       "      <td>B</td>\n",
       "      <td>2166</td>\n",
       "      <td>2166</td>\n",
       "      <td>OWNER</td>\n",
       "    </tr>\n",
       "    <tr>\n",
       "      <th>1</th>\n",
       "      <td>5316</td>\n",
       "      <td>1801</td>\n",
       "      <td>930711</td>\n",
       "      <td>165960</td>\n",
       "      <td>36</td>\n",
       "      <td>4610</td>\n",
       "      <td>A</td>\n",
       "      <td>2181</td>\n",
       "      <td>2181</td>\n",
       "      <td>OWNER</td>\n",
       "    </tr>\n",
       "    <tr>\n",
       "      <th>2</th>\n",
       "      <td>6863</td>\n",
       "      <td>9188</td>\n",
       "      <td>930728</td>\n",
       "      <td>127080</td>\n",
       "      <td>60</td>\n",
       "      <td>2118</td>\n",
       "      <td>A</td>\n",
       "      <td>11006</td>\n",
       "      <td>11314</td>\n",
       "      <td>OWNER</td>\n",
       "    </tr>\n",
       "    <tr>\n",
       "      <th>3</th>\n",
       "      <td>5325</td>\n",
       "      <td>1843</td>\n",
       "      <td>930803</td>\n",
       "      <td>105804</td>\n",
       "      <td>36</td>\n",
       "      <td>2939</td>\n",
       "      <td>A</td>\n",
       "      <td>2235</td>\n",
       "      <td>2235</td>\n",
       "      <td>OWNER</td>\n",
       "    </tr>\n",
       "    <tr>\n",
       "      <th>4</th>\n",
       "      <td>7240</td>\n",
       "      <td>11013</td>\n",
       "      <td>930906</td>\n",
       "      <td>274740</td>\n",
       "      <td>60</td>\n",
       "      <td>4579</td>\n",
       "      <td>A</td>\n",
       "      <td>13231</td>\n",
       "      <td>13539</td>\n",
       "      <td>OWNER</td>\n",
       "    </tr>\n",
       "  </tbody>\n",
       "</table>\n",
       "</div>"
      ],
      "text/plain": [
       "   loan_id  account_id    date  amount  duration  payments status  disp_id  \\\n",
       "0     5314        1787  930705   96396        12      8033      B     2166   \n",
       "1     5316        1801  930711  165960        36      4610      A     2181   \n",
       "2     6863        9188  930728  127080        60      2118      A    11006   \n",
       "3     5325        1843  930803  105804        36      2939      A     2235   \n",
       "4     7240       11013  930906  274740        60      4579      A    13231   \n",
       "\n",
       "   client_id   type  \n",
       "0       2166  OWNER  \n",
       "1       2181  OWNER  \n",
       "2      11314  OWNER  \n",
       "3       2235  OWNER  \n",
       "4      13539  OWNER  "
      ]
     },
     "execution_count": 192,
     "metadata": {},
     "output_type": "execute_result"
    }
   ],
   "source": [
    "loans_rev.head(5)"
   ]
  },
  {
   "cell_type": "code",
   "execution_count": 193,
   "id": "472b5915",
   "metadata": {},
   "outputs": [
    {
     "data": {
      "text/plain": [
       "numpy.int64"
      ]
     },
     "execution_count": 193,
     "metadata": {},
     "output_type": "execute_result"
    }
   ],
   "source": [
    "type(loans_rev['date'].iloc[0])"
   ]
  },
  {
   "cell_type": "code",
   "execution_count": 194,
   "id": "a5af47ba",
   "metadata": {},
   "outputs": [],
   "source": [
    "loans_rev['date'] = loans['date'].apply(str)"
   ]
  },
  {
   "cell_type": "code",
   "execution_count": 195,
   "id": "e8a9fe07",
   "metadata": {},
   "outputs": [],
   "source": [
    "loans_rev['date'] = pd.to_datetime(loans_rev['date']) "
   ]
  },
  {
   "cell_type": "code",
   "execution_count": 196,
   "id": "5053e22f",
   "metadata": {},
   "outputs": [
    {
     "data": {
      "text/html": [
       "<div>\n",
       "<style scoped>\n",
       "    .dataframe tbody tr th:only-of-type {\n",
       "        vertical-align: middle;\n",
       "    }\n",
       "\n",
       "    .dataframe tbody tr th {\n",
       "        vertical-align: top;\n",
       "    }\n",
       "\n",
       "    .dataframe thead th {\n",
       "        text-align: right;\n",
       "    }\n",
       "</style>\n",
       "<table border=\"1\" class=\"dataframe\">\n",
       "  <thead>\n",
       "    <tr style=\"text-align: right;\">\n",
       "      <th></th>\n",
       "      <th>loan_id</th>\n",
       "      <th>account_id</th>\n",
       "      <th>date</th>\n",
       "      <th>amount</th>\n",
       "      <th>duration</th>\n",
       "      <th>payments</th>\n",
       "      <th>status</th>\n",
       "      <th>disp_id</th>\n",
       "      <th>client_id</th>\n",
       "      <th>type</th>\n",
       "    </tr>\n",
       "  </thead>\n",
       "  <tbody>\n",
       "    <tr>\n",
       "      <th>0</th>\n",
       "      <td>5314</td>\n",
       "      <td>1787</td>\n",
       "      <td>1993-07-05</td>\n",
       "      <td>96396</td>\n",
       "      <td>12</td>\n",
       "      <td>8033</td>\n",
       "      <td>B</td>\n",
       "      <td>2166</td>\n",
       "      <td>2166</td>\n",
       "      <td>OWNER</td>\n",
       "    </tr>\n",
       "    <tr>\n",
       "      <th>1</th>\n",
       "      <td>5316</td>\n",
       "      <td>1801</td>\n",
       "      <td>1993-07-11</td>\n",
       "      <td>165960</td>\n",
       "      <td>36</td>\n",
       "      <td>4610</td>\n",
       "      <td>A</td>\n",
       "      <td>2181</td>\n",
       "      <td>2181</td>\n",
       "      <td>OWNER</td>\n",
       "    </tr>\n",
       "    <tr>\n",
       "      <th>2</th>\n",
       "      <td>6863</td>\n",
       "      <td>9188</td>\n",
       "      <td>1993-07-28</td>\n",
       "      <td>127080</td>\n",
       "      <td>60</td>\n",
       "      <td>2118</td>\n",
       "      <td>A</td>\n",
       "      <td>11006</td>\n",
       "      <td>11314</td>\n",
       "      <td>OWNER</td>\n",
       "    </tr>\n",
       "    <tr>\n",
       "      <th>3</th>\n",
       "      <td>5325</td>\n",
       "      <td>1843</td>\n",
       "      <td>1993-08-03</td>\n",
       "      <td>105804</td>\n",
       "      <td>36</td>\n",
       "      <td>2939</td>\n",
       "      <td>A</td>\n",
       "      <td>2235</td>\n",
       "      <td>2235</td>\n",
       "      <td>OWNER</td>\n",
       "    </tr>\n",
       "    <tr>\n",
       "      <th>4</th>\n",
       "      <td>7240</td>\n",
       "      <td>11013</td>\n",
       "      <td>1993-09-06</td>\n",
       "      <td>274740</td>\n",
       "      <td>60</td>\n",
       "      <td>4579</td>\n",
       "      <td>A</td>\n",
       "      <td>13231</td>\n",
       "      <td>13539</td>\n",
       "      <td>OWNER</td>\n",
       "    </tr>\n",
       "  </tbody>\n",
       "</table>\n",
       "</div>"
      ],
      "text/plain": [
       "   loan_id  account_id       date  amount  duration  payments status  disp_id  \\\n",
       "0     5314        1787 1993-07-05   96396        12      8033      B     2166   \n",
       "1     5316        1801 1993-07-11  165960        36      4610      A     2181   \n",
       "2     6863        9188 1993-07-28  127080        60      2118      A    11006   \n",
       "3     5325        1843 1993-08-03  105804        36      2939      A     2235   \n",
       "4     7240       11013 1993-09-06  274740        60      4579      A    13231   \n",
       "\n",
       "   client_id   type  \n",
       "0       2166  OWNER  \n",
       "1       2181  OWNER  \n",
       "2      11314  OWNER  \n",
       "3       2235  OWNER  \n",
       "4      13539  OWNER  "
      ]
     },
     "execution_count": 196,
     "metadata": {},
     "output_type": "execute_result"
    }
   ],
   "source": [
    "loans_rev.head(5)"
   ]
  },
  {
   "cell_type": "markdown",
   "id": "88d8db54",
   "metadata": {},
   "source": [
    "# 4. Preprocessing Transaction Dataset\n",
    "The transaction dataset has rich information but requires tedious transformation. From the transaction dataset, we will be parsing the dates and import the disposition details from the disp dataset."
   ]
  },
  {
   "cell_type": "code",
   "execution_count": 197,
   "id": "effcee90",
   "metadata": {},
   "outputs": [
    {
     "data": {
      "text/html": [
       "<div>\n",
       "<style scoped>\n",
       "    .dataframe tbody tr th:only-of-type {\n",
       "        vertical-align: middle;\n",
       "    }\n",
       "\n",
       "    .dataframe tbody tr th {\n",
       "        vertical-align: top;\n",
       "    }\n",
       "\n",
       "    .dataframe thead th {\n",
       "        text-align: right;\n",
       "    }\n",
       "</style>\n",
       "<table border=\"1\" class=\"dataframe\">\n",
       "  <thead>\n",
       "    <tr style=\"text-align: right;\">\n",
       "      <th></th>\n",
       "      <th>trans_id</th>\n",
       "      <th>account_id</th>\n",
       "      <th>date</th>\n",
       "      <th>type</th>\n",
       "      <th>operation</th>\n",
       "      <th>amount</th>\n",
       "      <th>balance</th>\n",
       "      <th>k_symbol</th>\n",
       "      <th>bank</th>\n",
       "      <th>account</th>\n",
       "    </tr>\n",
       "  </thead>\n",
       "  <tbody>\n",
       "    <tr>\n",
       "      <th>0</th>\n",
       "      <td>695247</td>\n",
       "      <td>2378</td>\n",
       "      <td>930101</td>\n",
       "      <td>PRIJEM</td>\n",
       "      <td>VKLAD</td>\n",
       "      <td>700.0</td>\n",
       "      <td>700.0</td>\n",
       "      <td>NaN</td>\n",
       "      <td>NaN</td>\n",
       "      <td>NaN</td>\n",
       "    </tr>\n",
       "    <tr>\n",
       "      <th>1</th>\n",
       "      <td>171812</td>\n",
       "      <td>576</td>\n",
       "      <td>930101</td>\n",
       "      <td>PRIJEM</td>\n",
       "      <td>VKLAD</td>\n",
       "      <td>900.0</td>\n",
       "      <td>900.0</td>\n",
       "      <td>NaN</td>\n",
       "      <td>NaN</td>\n",
       "      <td>NaN</td>\n",
       "    </tr>\n",
       "    <tr>\n",
       "      <th>2</th>\n",
       "      <td>207264</td>\n",
       "      <td>704</td>\n",
       "      <td>930101</td>\n",
       "      <td>PRIJEM</td>\n",
       "      <td>VKLAD</td>\n",
       "      <td>1000.0</td>\n",
       "      <td>1000.0</td>\n",
       "      <td>NaN</td>\n",
       "      <td>NaN</td>\n",
       "      <td>NaN</td>\n",
       "    </tr>\n",
       "    <tr>\n",
       "      <th>3</th>\n",
       "      <td>1117247</td>\n",
       "      <td>3818</td>\n",
       "      <td>930101</td>\n",
       "      <td>PRIJEM</td>\n",
       "      <td>VKLAD</td>\n",
       "      <td>600.0</td>\n",
       "      <td>600.0</td>\n",
       "      <td>NaN</td>\n",
       "      <td>NaN</td>\n",
       "      <td>NaN</td>\n",
       "    </tr>\n",
       "    <tr>\n",
       "      <th>4</th>\n",
       "      <td>579373</td>\n",
       "      <td>1972</td>\n",
       "      <td>930102</td>\n",
       "      <td>PRIJEM</td>\n",
       "      <td>VKLAD</td>\n",
       "      <td>400.0</td>\n",
       "      <td>400.0</td>\n",
       "      <td>NaN</td>\n",
       "      <td>NaN</td>\n",
       "      <td>NaN</td>\n",
       "    </tr>\n",
       "  </tbody>\n",
       "</table>\n",
       "</div>"
      ],
      "text/plain": [
       "   trans_id  account_id    date    type operation  amount  balance k_symbol  \\\n",
       "0    695247        2378  930101  PRIJEM     VKLAD   700.0    700.0      NaN   \n",
       "1    171812         576  930101  PRIJEM     VKLAD   900.0    900.0      NaN   \n",
       "2    207264         704  930101  PRIJEM     VKLAD  1000.0   1000.0      NaN   \n",
       "3   1117247        3818  930101  PRIJEM     VKLAD   600.0    600.0      NaN   \n",
       "4    579373        1972  930102  PRIJEM     VKLAD   400.0    400.0      NaN   \n",
       "\n",
       "  bank  account  \n",
       "0  NaN      NaN  \n",
       "1  NaN      NaN  \n",
       "2  NaN      NaN  \n",
       "3  NaN      NaN  \n",
       "4  NaN      NaN  "
      ]
     },
     "execution_count": 197,
     "metadata": {},
     "output_type": "execute_result"
    }
   ],
   "source": [
    "trans.head()"
   ]
  },
  {
   "cell_type": "code",
   "execution_count": 198,
   "id": "4a688374",
   "metadata": {},
   "outputs": [],
   "source": [
    "trans.sort_values('date', ascending = False, inplace = True)"
   ]
  },
  {
   "cell_type": "code",
   "execution_count": 199,
   "id": "d12c1182",
   "metadata": {},
   "outputs": [],
   "source": [
    "trans['date'] = trans['date'].apply(str)"
   ]
  },
  {
   "cell_type": "markdown",
   "id": "774cb197",
   "metadata": {
    "scrolled": true
   },
   "source": [
    "trans_rev = pd.merge(trans, disp, on = \"account_id\", how = 'inner')"
   ]
  },
  {
   "cell_type": "code",
   "execution_count": 200,
   "id": "8210a806",
   "metadata": {},
   "outputs": [],
   "source": [
    "trans_rev[\"date\"] = pd.to_datetime(trans_rev[\"date\"]) "
   ]
  },
  {
   "cell_type": "code",
   "execution_count": 201,
   "id": "9d9fc950",
   "metadata": {
    "scrolled": false
   },
   "outputs": [
    {
     "data": {
      "text/plain": [
       "pandas._libs.tslibs.timestamps.Timestamp"
      ]
     },
     "execution_count": 201,
     "metadata": {},
     "output_type": "execute_result"
    }
   ],
   "source": [
    "type(trans_rev['date'].iloc[0])"
   ]
  },
  {
   "cell_type": "code",
   "execution_count": 202,
   "id": "3f1cae13",
   "metadata": {},
   "outputs": [
    {
     "data": {
      "text/html": [
       "<div>\n",
       "<style scoped>\n",
       "    .dataframe tbody tr th:only-of-type {\n",
       "        vertical-align: middle;\n",
       "    }\n",
       "\n",
       "    .dataframe tbody tr th {\n",
       "        vertical-align: top;\n",
       "    }\n",
       "\n",
       "    .dataframe thead th {\n",
       "        text-align: right;\n",
       "    }\n",
       "</style>\n",
       "<table border=\"1\" class=\"dataframe\">\n",
       "  <thead>\n",
       "    <tr style=\"text-align: right;\">\n",
       "      <th></th>\n",
       "      <th>trans_id</th>\n",
       "      <th>account_id</th>\n",
       "      <th>date</th>\n",
       "      <th>type_x</th>\n",
       "      <th>operation</th>\n",
       "      <th>amount</th>\n",
       "      <th>balance</th>\n",
       "      <th>k_symbol</th>\n",
       "      <th>bank</th>\n",
       "      <th>account</th>\n",
       "      <th>disp_id</th>\n",
       "      <th>client_id</th>\n",
       "      <th>type_y</th>\n",
       "    </tr>\n",
       "  </thead>\n",
       "  <tbody>\n",
       "    <tr>\n",
       "      <th>0</th>\n",
       "      <td>1110008</td>\n",
       "      <td>3789</td>\n",
       "      <td>1998-12-19</td>\n",
       "      <td>VYDAJ</td>\n",
       "      <td>VYBER</td>\n",
       "      <td>11100.0</td>\n",
       "      <td>33684.0</td>\n",
       "      <td>NaN</td>\n",
       "      <td>NaN</td>\n",
       "      <td>NaN</td>\n",
       "      <td>4569</td>\n",
       "      <td>4569</td>\n",
       "      <td>OWNER</td>\n",
       "    </tr>\n",
       "    <tr>\n",
       "      <th>1</th>\n",
       "      <td>1109971</td>\n",
       "      <td>3789</td>\n",
       "      <td>1998-12-19</td>\n",
       "      <td>VYBER</td>\n",
       "      <td>VYBER</td>\n",
       "      <td>4900.0</td>\n",
       "      <td>44784.0</td>\n",
       "      <td>NaN</td>\n",
       "      <td>NaN</td>\n",
       "      <td>NaN</td>\n",
       "      <td>4569</td>\n",
       "      <td>4569</td>\n",
       "      <td>OWNER</td>\n",
       "    </tr>\n",
       "    <tr>\n",
       "      <th>2</th>\n",
       "      <td>1109980</td>\n",
       "      <td>3789</td>\n",
       "      <td>1998-12-18</td>\n",
       "      <td>VYDAJ</td>\n",
       "      <td>VYBER</td>\n",
       "      <td>2100.0</td>\n",
       "      <td>49684.0</td>\n",
       "      <td>NaN</td>\n",
       "      <td>NaN</td>\n",
       "      <td>NaN</td>\n",
       "      <td>4569</td>\n",
       "      <td>4569</td>\n",
       "      <td>OWNER</td>\n",
       "    </tr>\n",
       "    <tr>\n",
       "      <th>3</th>\n",
       "      <td>1109946</td>\n",
       "      <td>3789</td>\n",
       "      <td>1998-12-09</td>\n",
       "      <td>VYDAJ</td>\n",
       "      <td>PREVOD NA UCET</td>\n",
       "      <td>11244.0</td>\n",
       "      <td>51784.0</td>\n",
       "      <td>SIPO</td>\n",
       "      <td>QR</td>\n",
       "      <td>43976020.0</td>\n",
       "      <td>4569</td>\n",
       "      <td>4569</td>\n",
       "      <td>OWNER</td>\n",
       "    </tr>\n",
       "    <tr>\n",
       "      <th>4</th>\n",
       "      <td>1109970</td>\n",
       "      <td>3789</td>\n",
       "      <td>1998-12-09</td>\n",
       "      <td>VYBER</td>\n",
       "      <td>VYBER</td>\n",
       "      <td>5790.0</td>\n",
       "      <td>63028.0</td>\n",
       "      <td>NaN</td>\n",
       "      <td>NaN</td>\n",
       "      <td>NaN</td>\n",
       "      <td>4569</td>\n",
       "      <td>4569</td>\n",
       "      <td>OWNER</td>\n",
       "    </tr>\n",
       "  </tbody>\n",
       "</table>\n",
       "</div>"
      ],
      "text/plain": [
       "   trans_id  account_id       date type_x       operation   amount  balance  \\\n",
       "0   1110008        3789 1998-12-19  VYDAJ           VYBER  11100.0  33684.0   \n",
       "1   1109971        3789 1998-12-19  VYBER           VYBER   4900.0  44784.0   \n",
       "2   1109980        3789 1998-12-18  VYDAJ           VYBER   2100.0  49684.0   \n",
       "3   1109946        3789 1998-12-09  VYDAJ  PREVOD NA UCET  11244.0  51784.0   \n",
       "4   1109970        3789 1998-12-09  VYBER           VYBER   5790.0  63028.0   \n",
       "\n",
       "  k_symbol bank     account  disp_id  client_id type_y  \n",
       "0      NaN  NaN         NaN     4569       4569  OWNER  \n",
       "1      NaN  NaN         NaN     4569       4569  OWNER  \n",
       "2      NaN  NaN         NaN     4569       4569  OWNER  \n",
       "3     SIPO   QR  43976020.0     4569       4569  OWNER  \n",
       "4      NaN  NaN         NaN     4569       4569  OWNER  "
      ]
     },
     "execution_count": 202,
     "metadata": {},
     "output_type": "execute_result"
    }
   ],
   "source": [
    "trans_rev.head()"
   ]
  },
  {
   "cell_type": "markdown",
   "id": "22e739a3",
   "metadata": {},
   "source": [
    "# 5. Merging Transaction and Loan Dataset\n",
    "For our loan customers, we want to find out what was their bank balance, average transaction amount and number of transactions made as at their loan date. We will be joining the loan dataset with the transaction dataset on 2 criterias.\n",
    "<br/>\n",
    "1. disp_id is the same in transaction and loan dataset\n",
    "2. loan date is more than or equal to transaction date (loan date is after the transaction date)\n",
    "<br/>\n",
    "\n",
    "As the 2nd criteria is a more than or equal to criteria, we are unable to use the pd.merge function and will have to rely on an SQL query."
   ]
  },
  {
   "cell_type": "code",
   "execution_count": 203,
   "id": "9aef8572",
   "metadata": {},
   "outputs": [],
   "source": [
    "trans_rev.sort_values('date', ascending = False, inplace = True)"
   ]
  },
  {
   "cell_type": "code",
   "execution_count": 204,
   "id": "96b2abb0",
   "metadata": {},
   "outputs": [
    {
     "data": {
      "text/html": [
       "<div>\n",
       "<style scoped>\n",
       "    .dataframe tbody tr th:only-of-type {\n",
       "        vertical-align: middle;\n",
       "    }\n",
       "\n",
       "    .dataframe tbody tr th {\n",
       "        vertical-align: top;\n",
       "    }\n",
       "\n",
       "    .dataframe thead th {\n",
       "        text-align: right;\n",
       "    }\n",
       "</style>\n",
       "<table border=\"1\" class=\"dataframe\">\n",
       "  <thead>\n",
       "    <tr style=\"text-align: right;\">\n",
       "      <th></th>\n",
       "      <th>trans_id</th>\n",
       "      <th>account_id</th>\n",
       "      <th>date</th>\n",
       "      <th>type_x</th>\n",
       "      <th>operation</th>\n",
       "      <th>amount</th>\n",
       "      <th>balance</th>\n",
       "      <th>k_symbol</th>\n",
       "      <th>bank</th>\n",
       "      <th>account</th>\n",
       "      <th>disp_id</th>\n",
       "      <th>client_id</th>\n",
       "      <th>type_y</th>\n",
       "    </tr>\n",
       "  </thead>\n",
       "  <tbody>\n",
       "    <tr>\n",
       "      <th>0</th>\n",
       "      <td>1110008</td>\n",
       "      <td>3789</td>\n",
       "      <td>1998-12-19</td>\n",
       "      <td>VYDAJ</td>\n",
       "      <td>VYBER</td>\n",
       "      <td>11100.0</td>\n",
       "      <td>33684.0</td>\n",
       "      <td>NaN</td>\n",
       "      <td>NaN</td>\n",
       "      <td>NaN</td>\n",
       "      <td>4569</td>\n",
       "      <td>4569</td>\n",
       "      <td>OWNER</td>\n",
       "    </tr>\n",
       "    <tr>\n",
       "      <th>8282</th>\n",
       "      <td>897183</td>\n",
       "      <td>3056</td>\n",
       "      <td>1998-12-19</td>\n",
       "      <td>VYDAJ</td>\n",
       "      <td>VYBER</td>\n",
       "      <td>600.0</td>\n",
       "      <td>32856.3</td>\n",
       "      <td>NaN</td>\n",
       "      <td>NaN</td>\n",
       "      <td>NaN</td>\n",
       "      <td>3695</td>\n",
       "      <td>3695</td>\n",
       "      <td>OWNER</td>\n",
       "    </tr>\n",
       "    <tr>\n",
       "      <th>6907</th>\n",
       "      <td>1109169</td>\n",
       "      <td>3787</td>\n",
       "      <td>1998-12-19</td>\n",
       "      <td>VYDAJ</td>\n",
       "      <td>VYBER</td>\n",
       "      <td>2600.0</td>\n",
       "      <td>81497.4</td>\n",
       "      <td>NaN</td>\n",
       "      <td>NaN</td>\n",
       "      <td>NaN</td>\n",
       "      <td>4567</td>\n",
       "      <td>4567</td>\n",
       "      <td>OWNER</td>\n",
       "    </tr>\n",
       "    <tr>\n",
       "      <th>7319</th>\n",
       "      <td>554045</td>\n",
       "      <td>1886</td>\n",
       "      <td>1998-12-19</td>\n",
       "      <td>VYBER</td>\n",
       "      <td>VYBER</td>\n",
       "      <td>16997.0</td>\n",
       "      <td>49077.9</td>\n",
       "      <td>NaN</td>\n",
       "      <td>NaN</td>\n",
       "      <td>NaN</td>\n",
       "      <td>2288</td>\n",
       "      <td>2288</td>\n",
       "      <td>OWNER</td>\n",
       "    </tr>\n",
       "    <tr>\n",
       "      <th>1649</th>\n",
       "      <td>2347317</td>\n",
       "      <td>7745</td>\n",
       "      <td>1998-12-19</td>\n",
       "      <td>PRIJEM</td>\n",
       "      <td>VKLAD</td>\n",
       "      <td>4500.0</td>\n",
       "      <td>25398.7</td>\n",
       "      <td>NaN</td>\n",
       "      <td>NaN</td>\n",
       "      <td>NaN</td>\n",
       "      <td>9274</td>\n",
       "      <td>9582</td>\n",
       "      <td>OWNER</td>\n",
       "    </tr>\n",
       "  </tbody>\n",
       "</table>\n",
       "</div>"
      ],
      "text/plain": [
       "      trans_id  account_id       date  type_x operation   amount  balance  \\\n",
       "0      1110008        3789 1998-12-19   VYDAJ     VYBER  11100.0  33684.0   \n",
       "8282    897183        3056 1998-12-19   VYDAJ     VYBER    600.0  32856.3   \n",
       "6907   1109169        3787 1998-12-19   VYDAJ     VYBER   2600.0  81497.4   \n",
       "7319    554045        1886 1998-12-19   VYBER     VYBER  16997.0  49077.9   \n",
       "1649   2347317        7745 1998-12-19  PRIJEM     VKLAD   4500.0  25398.7   \n",
       "\n",
       "     k_symbol bank  account  disp_id  client_id type_y  \n",
       "0         NaN  NaN      NaN     4569       4569  OWNER  \n",
       "8282      NaN  NaN      NaN     3695       3695  OWNER  \n",
       "6907      NaN  NaN      NaN     4567       4567  OWNER  \n",
       "7319      NaN  NaN      NaN     2288       2288  OWNER  \n",
       "1649      NaN  NaN      NaN     9274       9582  OWNER  "
      ]
     },
     "execution_count": 204,
     "metadata": {},
     "output_type": "execute_result"
    }
   ],
   "source": [
    "trans_rev.head()"
   ]
  },
  {
   "cell_type": "code",
   "execution_count": 205,
   "id": "53ab3bf4",
   "metadata": {},
   "outputs": [
    {
     "data": {
      "text/html": [
       "<div>\n",
       "<style scoped>\n",
       "    .dataframe tbody tr th:only-of-type {\n",
       "        vertical-align: middle;\n",
       "    }\n",
       "\n",
       "    .dataframe tbody tr th {\n",
       "        vertical-align: top;\n",
       "    }\n",
       "\n",
       "    .dataframe thead th {\n",
       "        text-align: right;\n",
       "    }\n",
       "</style>\n",
       "<table border=\"1\" class=\"dataframe\">\n",
       "  <thead>\n",
       "    <tr style=\"text-align: right;\">\n",
       "      <th></th>\n",
       "      <th>loan_id</th>\n",
       "      <th>account_id</th>\n",
       "      <th>disp_id</th>\n",
       "      <th>client_id</th>\n",
       "      <th>type</th>\n",
       "      <th>date1</th>\n",
       "      <th>amount</th>\n",
       "      <th>duration</th>\n",
       "      <th>payments</th>\n",
       "      <th>status</th>\n",
       "      <th>bank_balance_at_loan</th>\n",
       "      <th>date2</th>\n",
       "      <th>trans_amt</th>\n",
       "      <th>avg_trans_amt</th>\n",
       "      <th>no_trans</th>\n",
       "    </tr>\n",
       "  </thead>\n",
       "  <tbody>\n",
       "    <tr>\n",
       "      <th>0</th>\n",
       "      <td>4959</td>\n",
       "      <td>2</td>\n",
       "      <td>2</td>\n",
       "      <td>2</td>\n",
       "      <td>OWNER</td>\n",
       "      <td>1994-01-05 00:00:00.000000</td>\n",
       "      <td>80952</td>\n",
       "      <td>24</td>\n",
       "      <td>3373</td>\n",
       "      <td>A</td>\n",
       "      <td>20574.6</td>\n",
       "      <td>1994-01-05 00:00:00.000000</td>\n",
       "      <td>7266.0</td>\n",
       "      <td>7941.743636</td>\n",
       "      <td>55</td>\n",
       "    </tr>\n",
       "    <tr>\n",
       "      <th>1</th>\n",
       "      <td>4961</td>\n",
       "      <td>19</td>\n",
       "      <td>25</td>\n",
       "      <td>25</td>\n",
       "      <td>OWNER</td>\n",
       "      <td>1996-04-29 00:00:00.000000</td>\n",
       "      <td>30276</td>\n",
       "      <td>12</td>\n",
       "      <td>2523</td>\n",
       "      <td>B</td>\n",
       "      <td>15854.0</td>\n",
       "      <td>1996-04-10 00:00:00.000000</td>\n",
       "      <td>15139.0</td>\n",
       "      <td>5856.300000</td>\n",
       "      <td>80</td>\n",
       "    </tr>\n",
       "    <tr>\n",
       "      <th>2</th>\n",
       "      <td>4962</td>\n",
       "      <td>25</td>\n",
       "      <td>31</td>\n",
       "      <td>31</td>\n",
       "      <td>OWNER</td>\n",
       "      <td>1997-12-08 00:00:00.000000</td>\n",
       "      <td>30276</td>\n",
       "      <td>12</td>\n",
       "      <td>2523</td>\n",
       "      <td>A</td>\n",
       "      <td>31457.9</td>\n",
       "      <td>1997-12-08 00:00:00.000000</td>\n",
       "      <td>164.0</td>\n",
       "      <td>12041.507273</td>\n",
       "      <td>165</td>\n",
       "    </tr>\n",
       "    <tr>\n",
       "      <th>3</th>\n",
       "      <td>4967</td>\n",
       "      <td>37</td>\n",
       "      <td>45</td>\n",
       "      <td>45</td>\n",
       "      <td>OWNER</td>\n",
       "      <td>1998-10-14 00:00:00.000000</td>\n",
       "      <td>318480</td>\n",
       "      <td>60</td>\n",
       "      <td>5308</td>\n",
       "      <td>D</td>\n",
       "      <td>16367.8</td>\n",
       "      <td>1998-10-12 00:00:00.000000</td>\n",
       "      <td>11200.0</td>\n",
       "      <td>7571.999138</td>\n",
       "      <td>116</td>\n",
       "    </tr>\n",
       "    <tr>\n",
       "      <th>4</th>\n",
       "      <td>4968</td>\n",
       "      <td>38</td>\n",
       "      <td>46</td>\n",
       "      <td>46</td>\n",
       "      <td>OWNER</td>\n",
       "      <td>1998-04-19 00:00:00.000000</td>\n",
       "      <td>110736</td>\n",
       "      <td>48</td>\n",
       "      <td>2307</td>\n",
       "      <td>C</td>\n",
       "      <td>37416.7</td>\n",
       "      <td>1998-04-10 00:00:00.000000</td>\n",
       "      <td>231.0</td>\n",
       "      <td>4716.194545</td>\n",
       "      <td>55</td>\n",
       "    </tr>\n",
       "  </tbody>\n",
       "</table>\n",
       "</div>"
      ],
      "text/plain": [
       "   loan_id  account_id  disp_id  client_id   type                       date1  \\\n",
       "0     4959           2        2          2  OWNER  1994-01-05 00:00:00.000000   \n",
       "1     4961          19       25         25  OWNER  1996-04-29 00:00:00.000000   \n",
       "2     4962          25       31         31  OWNER  1997-12-08 00:00:00.000000   \n",
       "3     4967          37       45         45  OWNER  1998-10-14 00:00:00.000000   \n",
       "4     4968          38       46         46  OWNER  1998-04-19 00:00:00.000000   \n",
       "\n",
       "   amount  duration  payments status  bank_balance_at_loan  \\\n",
       "0   80952        24      3373      A               20574.6   \n",
       "1   30276        12      2523      B               15854.0   \n",
       "2   30276        12      2523      A               31457.9   \n",
       "3  318480        60      5308      D               16367.8   \n",
       "4  110736        48      2307      C               37416.7   \n",
       "\n",
       "                        date2  trans_amt  avg_trans_amt  no_trans  \n",
       "0  1994-01-05 00:00:00.000000     7266.0    7941.743636        55  \n",
       "1  1996-04-10 00:00:00.000000    15139.0    5856.300000        80  \n",
       "2  1997-12-08 00:00:00.000000      164.0   12041.507273       165  \n",
       "3  1998-10-12 00:00:00.000000    11200.0    7571.999138       116  \n",
       "4  1998-04-10 00:00:00.000000      231.0    4716.194545        55  "
      ]
     },
     "execution_count": 205,
     "metadata": {},
     "output_type": "execute_result"
    }
   ],
   "source": [
    "# loan balance is the bank balance as at loan date\n",
    "sqlcode = '''\n",
    "SELECT *, AVG(trans_amt) AS avg_trans_amt, COUNT(trans_amt) AS no_trans\n",
    "FROM (\n",
    "    SELECT loans_rev.loan_id, loans_rev.account_id, loans_rev.disp_id, loans_rev.client_id, loans_rev.type, \n",
    "    loans_rev.date AS date1, loans_rev.amount, loans_rev.duration, loans_rev.payments, \n",
    "    loans_rev.status,trans_rev.balance AS bank_balance_at_loan, trans_rev.date AS date2, trans_rev.amount AS trans_amt\n",
    "    FROM loans_rev\n",
    "    INNER JOIN trans_rev ON loans_rev.disp_id=trans_rev.disp_id\n",
    "    WHERE loans_rev.date >= trans_rev.date\n",
    "    ORDER BY date2 DESC\n",
    ")\n",
    "GROUP BY disp_id\n",
    "'''\n",
    "\n",
    "bank_balance_at_loan = ps.sqldf(sqlcode,locals())\n",
    "bank_balance_at_loan.head(5)"
   ]
  },
  {
   "cell_type": "markdown",
   "id": "a0e31480",
   "metadata": {},
   "source": [
    "# 6. Extracting Information From Transaction Dataset\n",
    "For our clients, we want to extract the average transaction amount, number of transactions made and the latest bank balance from the transaction dataset."
   ]
  },
  {
   "cell_type": "code",
   "execution_count": 206,
   "id": "f9c018d7",
   "metadata": {},
   "outputs": [],
   "source": [
    "x = trans_rev[['client_id','amount']].groupby(['client_id']).mean()\n",
    "y = trans_rev[['client_id','amount']].groupby(['client_id']).count()"
   ]
  },
  {
   "cell_type": "code",
   "execution_count": 207,
   "id": "ffc38bda",
   "metadata": {},
   "outputs": [],
   "source": [
    "trans_latest = trans_rev.drop_duplicates(subset=['client_id'])"
   ]
  },
  {
   "cell_type": "code",
   "execution_count": 208,
   "id": "0a7b20c3",
   "metadata": {},
   "outputs": [],
   "source": [
    "trans_latest = pd.merge(trans_latest, x, on = \"client_id\", how='inner')"
   ]
  },
  {
   "cell_type": "code",
   "execution_count": 209,
   "id": "ab85b96d",
   "metadata": {},
   "outputs": [],
   "source": [
    "trans_latest = pd.merge(trans_latest, y, on = \"client_id\", how='inner')"
   ]
  },
  {
   "cell_type": "code",
   "execution_count": 210,
   "id": "bd34759c",
   "metadata": {},
   "outputs": [
    {
     "data": {
      "text/html": [
       "<div>\n",
       "<style scoped>\n",
       "    .dataframe tbody tr th:only-of-type {\n",
       "        vertical-align: middle;\n",
       "    }\n",
       "\n",
       "    .dataframe tbody tr th {\n",
       "        vertical-align: top;\n",
       "    }\n",
       "\n",
       "    .dataframe thead th {\n",
       "        text-align: right;\n",
       "    }\n",
       "</style>\n",
       "<table border=\"1\" class=\"dataframe\">\n",
       "  <thead>\n",
       "    <tr style=\"text-align: right;\">\n",
       "      <th></th>\n",
       "      <th>trans_id</th>\n",
       "      <th>account_id</th>\n",
       "      <th>date</th>\n",
       "      <th>type_x</th>\n",
       "      <th>operation</th>\n",
       "      <th>amount_x</th>\n",
       "      <th>balance</th>\n",
       "      <th>k_symbol</th>\n",
       "      <th>bank</th>\n",
       "      <th>account</th>\n",
       "      <th>disp_id</th>\n",
       "      <th>client_id</th>\n",
       "      <th>type_y</th>\n",
       "      <th>avg_trans1</th>\n",
       "      <th>count_trans1</th>\n",
       "    </tr>\n",
       "  </thead>\n",
       "  <tbody>\n",
       "    <tr>\n",
       "      <th>0</th>\n",
       "      <td>1110008</td>\n",
       "      <td>3789</td>\n",
       "      <td>1998-12-19</td>\n",
       "      <td>VYDAJ</td>\n",
       "      <td>VYBER</td>\n",
       "      <td>11100.0</td>\n",
       "      <td>33684.0</td>\n",
       "      <td>NaN</td>\n",
       "      <td>NaN</td>\n",
       "      <td>NaN</td>\n",
       "      <td>4569</td>\n",
       "      <td>4569</td>\n",
       "      <td>OWNER</td>\n",
       "      <td>11157.273510</td>\n",
       "      <td>151</td>\n",
       "    </tr>\n",
       "    <tr>\n",
       "      <th>1</th>\n",
       "      <td>897183</td>\n",
       "      <td>3056</td>\n",
       "      <td>1998-12-19</td>\n",
       "      <td>VYDAJ</td>\n",
       "      <td>VYBER</td>\n",
       "      <td>600.0</td>\n",
       "      <td>32856.3</td>\n",
       "      <td>NaN</td>\n",
       "      <td>NaN</td>\n",
       "      <td>NaN</td>\n",
       "      <td>3695</td>\n",
       "      <td>3695</td>\n",
       "      <td>OWNER</td>\n",
       "      <td>1605.732051</td>\n",
       "      <td>312</td>\n",
       "    </tr>\n",
       "    <tr>\n",
       "      <th>2</th>\n",
       "      <td>1109169</td>\n",
       "      <td>3787</td>\n",
       "      <td>1998-12-19</td>\n",
       "      <td>VYDAJ</td>\n",
       "      <td>VYBER</td>\n",
       "      <td>2600.0</td>\n",
       "      <td>81497.4</td>\n",
       "      <td>NaN</td>\n",
       "      <td>NaN</td>\n",
       "      <td>NaN</td>\n",
       "      <td>4567</td>\n",
       "      <td>4567</td>\n",
       "      <td>OWNER</td>\n",
       "      <td>7609.514806</td>\n",
       "      <td>412</td>\n",
       "    </tr>\n",
       "    <tr>\n",
       "      <th>3</th>\n",
       "      <td>554045</td>\n",
       "      <td>1886</td>\n",
       "      <td>1998-12-19</td>\n",
       "      <td>VYBER</td>\n",
       "      <td>VYBER</td>\n",
       "      <td>16997.0</td>\n",
       "      <td>49077.9</td>\n",
       "      <td>NaN</td>\n",
       "      <td>NaN</td>\n",
       "      <td>NaN</td>\n",
       "      <td>2288</td>\n",
       "      <td>2288</td>\n",
       "      <td>OWNER</td>\n",
       "      <td>9451.807212</td>\n",
       "      <td>208</td>\n",
       "    </tr>\n",
       "    <tr>\n",
       "      <th>4</th>\n",
       "      <td>2347317</td>\n",
       "      <td>7745</td>\n",
       "      <td>1998-12-19</td>\n",
       "      <td>PRIJEM</td>\n",
       "      <td>VKLAD</td>\n",
       "      <td>4500.0</td>\n",
       "      <td>25398.7</td>\n",
       "      <td>NaN</td>\n",
       "      <td>NaN</td>\n",
       "      <td>NaN</td>\n",
       "      <td>9274</td>\n",
       "      <td>9582</td>\n",
       "      <td>OWNER</td>\n",
       "      <td>12048.267470</td>\n",
       "      <td>166</td>\n",
       "    </tr>\n",
       "  </tbody>\n",
       "</table>\n",
       "</div>"
      ],
      "text/plain": [
       "   trans_id  account_id       date  type_x operation  amount_x  balance  \\\n",
       "0   1110008        3789 1998-12-19   VYDAJ     VYBER   11100.0  33684.0   \n",
       "1    897183        3056 1998-12-19   VYDAJ     VYBER     600.0  32856.3   \n",
       "2   1109169        3787 1998-12-19   VYDAJ     VYBER    2600.0  81497.4   \n",
       "3    554045        1886 1998-12-19   VYBER     VYBER   16997.0  49077.9   \n",
       "4   2347317        7745 1998-12-19  PRIJEM     VKLAD    4500.0  25398.7   \n",
       "\n",
       "  k_symbol bank  account  disp_id  client_id type_y    avg_trans1  \\\n",
       "0      NaN  NaN      NaN     4569       4569  OWNER  11157.273510   \n",
       "1      NaN  NaN      NaN     3695       3695  OWNER   1605.732051   \n",
       "2      NaN  NaN      NaN     4567       4567  OWNER   7609.514806   \n",
       "3      NaN  NaN      NaN     2288       2288  OWNER   9451.807212   \n",
       "4      NaN  NaN      NaN     9274       9582  OWNER  12048.267470   \n",
       "\n",
       "   count_trans1  \n",
       "0           151  \n",
       "1           312  \n",
       "2           412  \n",
       "3           208  \n",
       "4           166  "
      ]
     },
     "execution_count": 210,
     "metadata": {},
     "output_type": "execute_result"
    }
   ],
   "source": [
    "trans_latest = trans_latest.rename(columns={'amount_y': 'avg_trans1','amount': 'count_trans1'})\n",
    "trans_latest.head(5)"
   ]
  },
  {
   "cell_type": "markdown",
   "id": "9465c344",
   "metadata": {},
   "source": [
    "# 7. Functions\n",
    "For our clients, we will be writing a few functions to obtain their gender, birthdate, age and categorize them into various age buckets."
   ]
  },
  {
   "cell_type": "code",
   "execution_count": 211,
   "id": "b45167f2",
   "metadata": {},
   "outputs": [
    {
     "data": {
      "text/html": [
       "<div>\n",
       "<style scoped>\n",
       "    .dataframe tbody tr th:only-of-type {\n",
       "        vertical-align: middle;\n",
       "    }\n",
       "\n",
       "    .dataframe tbody tr th {\n",
       "        vertical-align: top;\n",
       "    }\n",
       "\n",
       "    .dataframe thead th {\n",
       "        text-align: right;\n",
       "    }\n",
       "</style>\n",
       "<table border=\"1\" class=\"dataframe\">\n",
       "  <thead>\n",
       "    <tr style=\"text-align: right;\">\n",
       "      <th></th>\n",
       "      <th>client_id</th>\n",
       "      <th>birth_number</th>\n",
       "      <th>district_id</th>\n",
       "    </tr>\n",
       "  </thead>\n",
       "  <tbody>\n",
       "    <tr>\n",
       "      <th>0</th>\n",
       "      <td>1</td>\n",
       "      <td>706213</td>\n",
       "      <td>18</td>\n",
       "    </tr>\n",
       "    <tr>\n",
       "      <th>1</th>\n",
       "      <td>2</td>\n",
       "      <td>450204</td>\n",
       "      <td>1</td>\n",
       "    </tr>\n",
       "    <tr>\n",
       "      <th>2</th>\n",
       "      <td>3</td>\n",
       "      <td>406009</td>\n",
       "      <td>1</td>\n",
       "    </tr>\n",
       "    <tr>\n",
       "      <th>3</th>\n",
       "      <td>4</td>\n",
       "      <td>561201</td>\n",
       "      <td>5</td>\n",
       "    </tr>\n",
       "    <tr>\n",
       "      <th>4</th>\n",
       "      <td>5</td>\n",
       "      <td>605703</td>\n",
       "      <td>5</td>\n",
       "    </tr>\n",
       "  </tbody>\n",
       "</table>\n",
       "</div>"
      ],
      "text/plain": [
       "   client_id  birth_number  district_id\n",
       "0          1        706213           18\n",
       "1          2        450204            1\n",
       "2          3        406009            1\n",
       "3          4        561201            5\n",
       "4          5        605703            5"
      ]
     },
     "execution_count": 211,
     "metadata": {},
     "output_type": "execute_result"
    }
   ],
   "source": [
    "client.head(5)"
   ]
  },
  {
   "cell_type": "code",
   "execution_count": 212,
   "id": "6f3fcc78",
   "metadata": {},
   "outputs": [],
   "source": [
    "def gender(x):\n",
    "    y = str(x)[2:]\n",
    "    if float(y) > 5000:\n",
    "        return \"Female\"\n",
    "    else:\n",
    "        return \"Male\""
   ]
  },
  {
   "cell_type": "code",
   "execution_count": 213,
   "id": "015f60a6",
   "metadata": {},
   "outputs": [],
   "source": [
    "def birthdate(x):\n",
    "    year = str(x)[0:2]\n",
    "    x = str(x)[2:]    \n",
    "    if float(x)> 5000:\n",
    "        x = float(x)-5000\n",
    "        x = int(x)\n",
    "        return pd.to_datetime('19' +year + str(x).zfill(4))\n",
    "    else:\n",
    "        return pd.to_datetime('19' + year + x)"
   ]
  },
  {
   "cell_type": "code",
   "execution_count": 214,
   "id": "e1e15e03",
   "metadata": {},
   "outputs": [],
   "source": [
    "def age(birthdate):\n",
    "    today = pd.to_datetime('1999' +'01' +'01')\n",
    "    one_or_zero = ((today.month, today.day) < (birthdate.month, birthdate.day))\n",
    "    year_difference = today.year - birthdate.year\n",
    "    age = year_difference - one_or_zero\n",
    "    \n",
    "    return age"
   ]
  },
  {
   "cell_type": "code",
   "execution_count": 215,
   "id": "7dac702a",
   "metadata": {},
   "outputs": [],
   "source": [
    "def age_categorization(age):\n",
    "  if age <25:\n",
    "    return 'YOUTH'\n",
    "  elif age <36:\n",
    "    return 'ADULT'\n",
    "  elif age <61:\n",
    "    return 'MIDDLE-AGE'\n",
    "  else:\n",
    "    return 'SENIOR'"
   ]
  },
  {
   "cell_type": "code",
   "execution_count": 216,
   "id": "f2029d7c",
   "metadata": {},
   "outputs": [],
   "source": [
    "client['gender'] = client['birth_number'].apply(gender)\n",
    "client['birth_date'] = client['birth_number'].apply(birthdate)\n",
    "client['age'] = client['birth_date'].apply(age)\n",
    "client['age_categorization'] = client['age'].apply(age_categorization)"
   ]
  },
  {
   "cell_type": "code",
   "execution_count": 217,
   "id": "fc4dca49",
   "metadata": {},
   "outputs": [
    {
     "data": {
      "text/html": [
       "<div>\n",
       "<style scoped>\n",
       "    .dataframe tbody tr th:only-of-type {\n",
       "        vertical-align: middle;\n",
       "    }\n",
       "\n",
       "    .dataframe tbody tr th {\n",
       "        vertical-align: top;\n",
       "    }\n",
       "\n",
       "    .dataframe thead th {\n",
       "        text-align: right;\n",
       "    }\n",
       "</style>\n",
       "<table border=\"1\" class=\"dataframe\">\n",
       "  <thead>\n",
       "    <tr style=\"text-align: right;\">\n",
       "      <th></th>\n",
       "      <th>client_id</th>\n",
       "      <th>birth_number</th>\n",
       "      <th>district_id</th>\n",
       "      <th>gender</th>\n",
       "      <th>birth_date</th>\n",
       "      <th>age</th>\n",
       "      <th>age_categorization</th>\n",
       "    </tr>\n",
       "  </thead>\n",
       "  <tbody>\n",
       "    <tr>\n",
       "      <th>0</th>\n",
       "      <td>1</td>\n",
       "      <td>706213</td>\n",
       "      <td>18</td>\n",
       "      <td>Female</td>\n",
       "      <td>1970-12-13</td>\n",
       "      <td>28</td>\n",
       "      <td>ADULT</td>\n",
       "    </tr>\n",
       "    <tr>\n",
       "      <th>1</th>\n",
       "      <td>2</td>\n",
       "      <td>450204</td>\n",
       "      <td>1</td>\n",
       "      <td>Male</td>\n",
       "      <td>1945-02-04</td>\n",
       "      <td>53</td>\n",
       "      <td>MIDDLE-AGE</td>\n",
       "    </tr>\n",
       "    <tr>\n",
       "      <th>2</th>\n",
       "      <td>3</td>\n",
       "      <td>406009</td>\n",
       "      <td>1</td>\n",
       "      <td>Female</td>\n",
       "      <td>1940-10-09</td>\n",
       "      <td>58</td>\n",
       "      <td>MIDDLE-AGE</td>\n",
       "    </tr>\n",
       "    <tr>\n",
       "      <th>3</th>\n",
       "      <td>4</td>\n",
       "      <td>561201</td>\n",
       "      <td>5</td>\n",
       "      <td>Male</td>\n",
       "      <td>1956-12-01</td>\n",
       "      <td>42</td>\n",
       "      <td>MIDDLE-AGE</td>\n",
       "    </tr>\n",
       "    <tr>\n",
       "      <th>4</th>\n",
       "      <td>5</td>\n",
       "      <td>605703</td>\n",
       "      <td>5</td>\n",
       "      <td>Female</td>\n",
       "      <td>1960-07-03</td>\n",
       "      <td>38</td>\n",
       "      <td>MIDDLE-AGE</td>\n",
       "    </tr>\n",
       "  </tbody>\n",
       "</table>\n",
       "</div>"
      ],
      "text/plain": [
       "   client_id  birth_number  district_id  gender birth_date  age  \\\n",
       "0          1        706213           18  Female 1970-12-13   28   \n",
       "1          2        450204            1    Male 1945-02-04   53   \n",
       "2          3        406009            1  Female 1940-10-09   58   \n",
       "3          4        561201            5    Male 1956-12-01   42   \n",
       "4          5        605703            5  Female 1960-07-03   38   \n",
       "\n",
       "  age_categorization  \n",
       "0              ADULT  \n",
       "1         MIDDLE-AGE  \n",
       "2         MIDDLE-AGE  \n",
       "3         MIDDLE-AGE  \n",
       "4         MIDDLE-AGE  "
      ]
     },
     "execution_count": 217,
     "metadata": {},
     "output_type": "execute_result"
    }
   ],
   "source": [
    "client.head(5)"
   ]
  },
  {
   "cell_type": "markdown",
   "id": "bc7d2ff1",
   "metadata": {},
   "source": [
    "# 8. Creating Final Dataset\n",
    "Now that we have all the required information, we will have to join the datasets into one data table to input into our prediction model. We will also perform formatting to the column headers and orders."
   ]
  },
  {
   "cell_type": "code",
   "execution_count": 218,
   "id": "fb42685b",
   "metadata": {},
   "outputs": [],
   "source": [
    "district = district.rename(columns={'A1' : 'district_id','A4':'no_of_inhabitants','A11':'average_salary', 'A12':'unemployment_rate','A14':'no_of_entrepreneurs','A16':'no_of_crime'})"
   ]
  },
  {
   "cell_type": "code",
   "execution_count": 219,
   "id": "56072a73",
   "metadata": {},
   "outputs": [],
   "source": [
    "final = pd.merge(trans_latest[[\"client_id\",\"disp_id\",\"account_id\",\"type_y\",\"balance\",\"avg_trans1\",\"count_trans1\"]], client, on = \"client_id\", how = 'inner')"
   ]
  },
  {
   "cell_type": "code",
   "execution_count": 220,
   "id": "e6181b54",
   "metadata": {},
   "outputs": [],
   "source": [
    "final = pd.merge(final, bank_balance_at_loan[['loan_id', 'date1', 'amount','duration', 'status','payments','client_id','bank_balance_at_loan','avg_trans_amt','no_trans']], on = 'client_id', how = 'outer')"
   ]
  },
  {
   "cell_type": "code",
   "execution_count": 221,
   "id": "d8a58514",
   "metadata": {},
   "outputs": [],
   "source": [
    "final = pd.merge(final, district[['district_id', 'average_salary','no_of_inhabitants','unemployment_rate','no_of_entrepreneurs','no_of_crime']], on = 'district_id', how = 'left')"
   ]
  },
  {
   "cell_type": "markdown",
   "id": "dc2d6bfb",
   "metadata": {},
   "source": [
    "Filtering out disponent clients as they are unable to take up a loan and checking if all loan customers have been accounted for."
   ]
  },
  {
   "cell_type": "code",
   "execution_count": 222,
   "id": "96f7db02",
   "metadata": {},
   "outputs": [],
   "source": [
    "final = final[final[\"type_y\"] == 'OWNER']"
   ]
  },
  {
   "cell_type": "code",
   "execution_count": 223,
   "id": "1253a155",
   "metadata": {},
   "outputs": [
    {
     "data": {
      "text/plain": [
       "682"
      ]
     },
     "execution_count": 223,
     "metadata": {},
     "output_type": "execute_result"
    }
   ],
   "source": [
    "final['bank_balance_at_loan'].count()"
   ]
  },
  {
   "cell_type": "markdown",
   "id": "e037dbb5",
   "metadata": {},
   "source": [
    "Reformatting the order and renaming column names"
   ]
  },
  {
   "cell_type": "code",
   "execution_count": 224,
   "id": "b354049b",
   "metadata": {
    "scrolled": true
   },
   "outputs": [
    {
     "data": {
      "text/html": [
       "<div>\n",
       "<style scoped>\n",
       "    .dataframe tbody tr th:only-of-type {\n",
       "        vertical-align: middle;\n",
       "    }\n",
       "\n",
       "    .dataframe tbody tr th {\n",
       "        vertical-align: top;\n",
       "    }\n",
       "\n",
       "    .dataframe thead th {\n",
       "        text-align: right;\n",
       "    }\n",
       "</style>\n",
       "<table border=\"1\" class=\"dataframe\">\n",
       "  <thead>\n",
       "    <tr style=\"text-align: right;\">\n",
       "      <th></th>\n",
       "      <th>client_id</th>\n",
       "      <th>disp_id</th>\n",
       "      <th>account_id</th>\n",
       "      <th>type</th>\n",
       "      <th>gender</th>\n",
       "      <th>birth_date</th>\n",
       "      <th>age</th>\n",
       "      <th>age_categorization</th>\n",
       "      <th>district_id</th>\n",
       "      <th>balance</th>\n",
       "      <th>...</th>\n",
       "      <th>no_trans</th>\n",
       "      <th>count_trans1</th>\n",
       "      <th>duration</th>\n",
       "      <th>status</th>\n",
       "      <th>payments</th>\n",
       "      <th>average_salary</th>\n",
       "      <th>no_of_inhabitants</th>\n",
       "      <th>unemployment_rate</th>\n",
       "      <th>no_of_entrepreneurs</th>\n",
       "      <th>no_of_crime</th>\n",
       "    </tr>\n",
       "  </thead>\n",
       "  <tbody>\n",
       "    <tr>\n",
       "      <th>0</th>\n",
       "      <td>4569</td>\n",
       "      <td>4569</td>\n",
       "      <td>3789</td>\n",
       "      <td>OWNER</td>\n",
       "      <td>Female</td>\n",
       "      <td>1971-07-09</td>\n",
       "      <td>27</td>\n",
       "      <td>ADULT</td>\n",
       "      <td>6</td>\n",
       "      <td>33684.0</td>\n",
       "      <td>...</td>\n",
       "      <td>NaN</td>\n",
       "      <td>151</td>\n",
       "      <td>NaN</td>\n",
       "      <td>NaN</td>\n",
       "      <td>NaN</td>\n",
       "      <td>8546</td>\n",
       "      <td>77963</td>\n",
       "      <td>2.95</td>\n",
       "      <td>126</td>\n",
       "      <td>3120</td>\n",
       "    </tr>\n",
       "    <tr>\n",
       "      <th>1</th>\n",
       "      <td>3695</td>\n",
       "      <td>3695</td>\n",
       "      <td>3056</td>\n",
       "      <td>OWNER</td>\n",
       "      <td>Male</td>\n",
       "      <td>1934-10-04</td>\n",
       "      <td>64</td>\n",
       "      <td>SENIOR</td>\n",
       "      <td>55</td>\n",
       "      <td>32856.3</td>\n",
       "      <td>...</td>\n",
       "      <td>NaN</td>\n",
       "      <td>312</td>\n",
       "      <td>NaN</td>\n",
       "      <td>NaN</td>\n",
       "      <td>NaN</td>\n",
       "      <td>8743</td>\n",
       "      <td>157042</td>\n",
       "      <td>1.88</td>\n",
       "      <td>111</td>\n",
       "      <td>3894</td>\n",
       "    </tr>\n",
       "    <tr>\n",
       "      <th>2</th>\n",
       "      <td>4567</td>\n",
       "      <td>4567</td>\n",
       "      <td>3787</td>\n",
       "      <td>OWNER</td>\n",
       "      <td>Male</td>\n",
       "      <td>1937-02-12</td>\n",
       "      <td>61</td>\n",
       "      <td>SENIOR</td>\n",
       "      <td>70</td>\n",
       "      <td>81497.4</td>\n",
       "      <td>...</td>\n",
       "      <td>NaN</td>\n",
       "      <td>412</td>\n",
       "      <td>NaN</td>\n",
       "      <td>NaN</td>\n",
       "      <td>NaN</td>\n",
       "      <td>10177</td>\n",
       "      <td>285387</td>\n",
       "      <td>6.63</td>\n",
       "      <td>81</td>\n",
       "      <td>10108</td>\n",
       "    </tr>\n",
       "    <tr>\n",
       "      <th>3</th>\n",
       "      <td>2288</td>\n",
       "      <td>2288</td>\n",
       "      <td>1886</td>\n",
       "      <td>OWNER</td>\n",
       "      <td>Female</td>\n",
       "      <td>1957-08-23</td>\n",
       "      <td>41</td>\n",
       "      <td>MIDDLE-AGE</td>\n",
       "      <td>32</td>\n",
       "      <td>49077.9</td>\n",
       "      <td>...</td>\n",
       "      <td>17.0</td>\n",
       "      <td>208</td>\n",
       "      <td>36.0</td>\n",
       "      <td>C</td>\n",
       "      <td>4513.0</td>\n",
       "      <td>9272</td>\n",
       "      <td>105058</td>\n",
       "      <td>2.8</td>\n",
       "      <td>118</td>\n",
       "      <td>4505</td>\n",
       "    </tr>\n",
       "    <tr>\n",
       "      <th>4</th>\n",
       "      <td>9582</td>\n",
       "      <td>9274</td>\n",
       "      <td>7745</td>\n",
       "      <td>OWNER</td>\n",
       "      <td>Female</td>\n",
       "      <td>1942-04-14</td>\n",
       "      <td>56</td>\n",
       "      <td>MIDDLE-AGE</td>\n",
       "      <td>2</td>\n",
       "      <td>25398.7</td>\n",
       "      <td>...</td>\n",
       "      <td>64.0</td>\n",
       "      <td>166</td>\n",
       "      <td>36.0</td>\n",
       "      <td>C</td>\n",
       "      <td>2154.0</td>\n",
       "      <td>8507</td>\n",
       "      <td>88884</td>\n",
       "      <td>1.67</td>\n",
       "      <td>132</td>\n",
       "      <td>2674</td>\n",
       "    </tr>\n",
       "    <tr>\n",
       "      <th>...</th>\n",
       "      <td>...</td>\n",
       "      <td>...</td>\n",
       "      <td>...</td>\n",
       "      <td>...</td>\n",
       "      <td>...</td>\n",
       "      <td>...</td>\n",
       "      <td>...</td>\n",
       "      <td>...</td>\n",
       "      <td>...</td>\n",
       "      <td>...</td>\n",
       "      <td>...</td>\n",
       "      <td>...</td>\n",
       "      <td>...</td>\n",
       "      <td>...</td>\n",
       "      <td>...</td>\n",
       "      <td>...</td>\n",
       "      <td>...</td>\n",
       "      <td>...</td>\n",
       "      <td>...</td>\n",
       "      <td>...</td>\n",
       "      <td>...</td>\n",
       "    </tr>\n",
       "    <tr>\n",
       "      <th>5363</th>\n",
       "      <td>2639</td>\n",
       "      <td>2639</td>\n",
       "      <td>2180</td>\n",
       "      <td>OWNER</td>\n",
       "      <td>Female</td>\n",
       "      <td>1950-03-04</td>\n",
       "      <td>48</td>\n",
       "      <td>MIDDLE-AGE</td>\n",
       "      <td>45</td>\n",
       "      <td>11300.0</td>\n",
       "      <td>...</td>\n",
       "      <td>NaN</td>\n",
       "      <td>41</td>\n",
       "      <td>NaN</td>\n",
       "      <td>NaN</td>\n",
       "      <td>NaN</td>\n",
       "      <td>8390</td>\n",
       "      <td>77917</td>\n",
       "      <td>2.28</td>\n",
       "      <td>132</td>\n",
       "      <td>2122</td>\n",
       "    </tr>\n",
       "    <tr>\n",
       "      <th>5364</th>\n",
       "      <td>551</td>\n",
       "      <td>551</td>\n",
       "      <td>459</td>\n",
       "      <td>OWNER</td>\n",
       "      <td>Female</td>\n",
       "      <td>1976-07-05</td>\n",
       "      <td>22</td>\n",
       "      <td>YOUTH</td>\n",
       "      <td>47</td>\n",
       "      <td>8100.0</td>\n",
       "      <td>...</td>\n",
       "      <td>NaN</td>\n",
       "      <td>49</td>\n",
       "      <td>NaN</td>\n",
       "      <td>NaN</td>\n",
       "      <td>NaN</td>\n",
       "      <td>9538</td>\n",
       "      <td>162580</td>\n",
       "      <td>1.51</td>\n",
       "      <td>111</td>\n",
       "      <td>5410</td>\n",
       "    </tr>\n",
       "    <tr>\n",
       "      <th>5365</th>\n",
       "      <td>2464</td>\n",
       "      <td>2464</td>\n",
       "      <td>2029</td>\n",
       "      <td>OWNER</td>\n",
       "      <td>Male</td>\n",
       "      <td>1945-09-01</td>\n",
       "      <td>53</td>\n",
       "      <td>MIDDLE-AGE</td>\n",
       "      <td>30</td>\n",
       "      <td>8900.0</td>\n",
       "      <td>...</td>\n",
       "      <td>NaN</td>\n",
       "      <td>36</td>\n",
       "      <td>NaN</td>\n",
       "      <td>NaN</td>\n",
       "      <td>NaN</td>\n",
       "      <td>9650</td>\n",
       "      <td>94812</td>\n",
       "      <td>3.38</td>\n",
       "      <td>100</td>\n",
       "      <td>2804</td>\n",
       "    </tr>\n",
       "    <tr>\n",
       "      <th>5366</th>\n",
       "      <td>2086</td>\n",
       "      <td>2086</td>\n",
       "      <td>1720</td>\n",
       "      <td>OWNER</td>\n",
       "      <td>Female</td>\n",
       "      <td>1954-10-29</td>\n",
       "      <td>44</td>\n",
       "      <td>MIDDLE-AGE</td>\n",
       "      <td>35</td>\n",
       "      <td>11400.0</td>\n",
       "      <td>...</td>\n",
       "      <td>NaN</td>\n",
       "      <td>16</td>\n",
       "      <td>NaN</td>\n",
       "      <td>NaN</td>\n",
       "      <td>NaN</td>\n",
       "      <td>8867</td>\n",
       "      <td>88768</td>\n",
       "      <td>1.02</td>\n",
       "      <td>130</td>\n",
       "      <td>3620</td>\n",
       "    </tr>\n",
       "    <tr>\n",
       "      <th>5367</th>\n",
       "      <td>957</td>\n",
       "      <td>957</td>\n",
       "      <td>799</td>\n",
       "      <td>OWNER</td>\n",
       "      <td>Female</td>\n",
       "      <td>1941-12-23</td>\n",
       "      <td>57</td>\n",
       "      <td>MIDDLE-AGE</td>\n",
       "      <td>56</td>\n",
       "      <td>9348.3</td>\n",
       "      <td>...</td>\n",
       "      <td>NaN</td>\n",
       "      <td>39</td>\n",
       "      <td>NaN</td>\n",
       "      <td>NaN</td>\n",
       "      <td>NaN</td>\n",
       "      <td>8772</td>\n",
       "      <td>124605</td>\n",
       "      <td>4.69</td>\n",
       "      <td>126</td>\n",
       "      <td>3158</td>\n",
       "    </tr>\n",
       "  </tbody>\n",
       "</table>\n",
       "<p>4500 rows × 26 columns</p>\n",
       "</div>"
      ],
      "text/plain": [
       "      client_id  disp_id  account_id   type  gender birth_date  age  \\\n",
       "0          4569     4569        3789  OWNER  Female 1971-07-09   27   \n",
       "1          3695     3695        3056  OWNER    Male 1934-10-04   64   \n",
       "2          4567     4567        3787  OWNER    Male 1937-02-12   61   \n",
       "3          2288     2288        1886  OWNER  Female 1957-08-23   41   \n",
       "4          9582     9274        7745  OWNER  Female 1942-04-14   56   \n",
       "...         ...      ...         ...    ...     ...        ...  ...   \n",
       "5363       2639     2639        2180  OWNER  Female 1950-03-04   48   \n",
       "5364        551      551         459  OWNER  Female 1976-07-05   22   \n",
       "5365       2464     2464        2029  OWNER    Male 1945-09-01   53   \n",
       "5366       2086     2086        1720  OWNER  Female 1954-10-29   44   \n",
       "5367        957      957         799  OWNER  Female 1941-12-23   57   \n",
       "\n",
       "     age_categorization  district_id  balance  ...  no_trans count_trans1  \\\n",
       "0                 ADULT            6  33684.0  ...       NaN          151   \n",
       "1                SENIOR           55  32856.3  ...       NaN          312   \n",
       "2                SENIOR           70  81497.4  ...       NaN          412   \n",
       "3            MIDDLE-AGE           32  49077.9  ...      17.0          208   \n",
       "4            MIDDLE-AGE            2  25398.7  ...      64.0          166   \n",
       "...                 ...          ...      ...  ...       ...          ...   \n",
       "5363         MIDDLE-AGE           45  11300.0  ...       NaN           41   \n",
       "5364              YOUTH           47   8100.0  ...       NaN           49   \n",
       "5365         MIDDLE-AGE           30   8900.0  ...       NaN           36   \n",
       "5366         MIDDLE-AGE           35  11400.0  ...       NaN           16   \n",
       "5367         MIDDLE-AGE           56   9348.3  ...       NaN           39   \n",
       "\n",
       "      duration  status  payments  average_salary  no_of_inhabitants  \\\n",
       "0          NaN     NaN       NaN            8546              77963   \n",
       "1          NaN     NaN       NaN            8743             157042   \n",
       "2          NaN     NaN       NaN           10177             285387   \n",
       "3         36.0       C    4513.0            9272             105058   \n",
       "4         36.0       C    2154.0            8507              88884   \n",
       "...        ...     ...       ...             ...                ...   \n",
       "5363       NaN     NaN       NaN            8390              77917   \n",
       "5364       NaN     NaN       NaN            9538             162580   \n",
       "5365       NaN     NaN       NaN            9650              94812   \n",
       "5366       NaN     NaN       NaN            8867              88768   \n",
       "5367       NaN     NaN       NaN            8772             124605   \n",
       "\n",
       "      unemployment_rate  no_of_entrepreneurs no_of_crime  \n",
       "0                  2.95                  126        3120  \n",
       "1                  1.88                  111        3894  \n",
       "2                  6.63                   81       10108  \n",
       "3                   2.8                  118        4505  \n",
       "4                  1.67                  132        2674  \n",
       "...                 ...                  ...         ...  \n",
       "5363               2.28                  132        2122  \n",
       "5364               1.51                  111        5410  \n",
       "5365               3.38                  100        2804  \n",
       "5366               1.02                  130        3620  \n",
       "5367               4.69                  126        3158  \n",
       "\n",
       "[4500 rows x 26 columns]"
      ]
     },
     "execution_count": 224,
     "metadata": {},
     "output_type": "execute_result"
    }
   ],
   "source": [
    "order = ['client_id','disp_id','account_id','type_y','gender','birth_date','age','age_categorization','district_id','balance','loan_id','date1','amount','bank_balance_at_loan','avg_trans_amt','avg_trans1','no_trans','count_trans1','duration','status','payments','average_salary','no_of_inhabitants','unemployment_rate','no_of_entrepreneurs','no_of_crime']\n",
    "final = final[order]\n",
    "final = final.rename(columns={'type_y' : 'type','date1':'date', 'loan_amount' : 'amount'})\n",
    "final['date'] = pd.to_datetime(final['date'])\n",
    "final.head(5)"
   ]
  },
  {
   "cell_type": "markdown",
   "id": "f2112f4b",
   "metadata": {},
   "source": [
    "For our loan customers we want the bank balance, average transaction amount and number of transactions made as at or before the loan date. For our non-loan customers, we want their latest bank balance, latest average transaction amount and latest number of transactions made which is as at December 1998"
   ]
  },
  {
   "cell_type": "code",
   "execution_count": 225,
   "id": "5b36c890",
   "metadata": {},
   "outputs": [],
   "source": [
    "final['bank_balance_at_loan2'] = final['bank_balance_at_loan']\n",
    "final.loc[final['bank_balance_at_loan2'].isnull(),'bank_balance_at_loan2'] = final['balance']\n",
    "final.loc[final['no_trans'].isnull(),'no_trans'] = final['count_trans1']\n",
    "final.loc[final['avg_trans_amt'].isnull(),'avg_trans_amt'] = final['avg_trans1']"
   ]
  },
  {
   "cell_type": "code",
   "execution_count": 226,
   "id": "639cb438",
   "metadata": {},
   "outputs": [],
   "source": [
    "final['loan_taken'] = final['loan_id'].notnull().map({False:0 ,True:1})"
   ]
  },
  {
   "cell_type": "markdown",
   "id": "5d3244ff",
   "metadata": {},
   "source": [
    "# 9. Data Exploration\n",
    "We will now begin our data exploration by performing univariate analysis and plotting the variables onto graphs and charts."
   ]
  },
  {
   "cell_type": "code",
   "execution_count": 227,
   "id": "4e2bdade",
   "metadata": {
    "scrolled": true
   },
   "outputs": [
    {
     "data": {
      "text/plain": [
       "<AxesSubplot:xlabel='duration', ylabel='count'>"
      ]
     },
     "execution_count": 227,
     "metadata": {},
     "output_type": "execute_result"
    },
    {
     "data": {
      "image/png": "[encoded data removed]",
      "text/plain": [
       "<Figure size 432x288 with 1 Axes>"
      ]
     },
     "metadata": {
      "needs_background": "light"
     },
     "output_type": "display_data"
    }
   ],
   "source": [
    "sns.countplot(x='duration', data=final)"
   ]
  },
  {
   "cell_type": "markdown",
   "id": "832962b2",
   "metadata": {},
   "source": [
    "If we look at the duration mix of loans, we can see that our loans are not skewed towards any duration. If the bank requires more liquidity, they can consider issuing less of long term loans. The business team can also identify the profitability of each duration segment to assess if they should change the mix of the loans."
   ]
  },
  {
   "cell_type": "code",
   "execution_count": 228,
   "id": "19e74f8f",
   "metadata": {},
   "outputs": [
    {
     "data": {
      "text/plain": [
       "<AxesSubplot:xlabel='status', ylabel='count'>"
      ]
     },
     "execution_count": 228,
     "metadata": {},
     "output_type": "execute_result"
    },
    {
     "data": {
      "image/png": "[encoded data removed]",
      "text/plain": [
       "<Figure size 432x288 with 1 Axes>"
      ]
     },
     "metadata": {
      "needs_background": "light"
     },
     "output_type": "display_data"
    }
   ],
   "source": [
    "sns.countplot(x='status', data=final)"
   ]
  },
  {
   "cell_type": "markdown",
   "id": "48c9dc83",
   "metadata": {},
   "source": [
    "The loans that have been issued have been classified as follows:\n",
    "<br/>\n",
    "1. A: Contract finished, no issues\n",
    "2. B: Contract finished, loans no paid\n",
    "3. C: Running contract, no issues\n",
    "4. D: Running contract, client in debt\n",
    "<br/>\n",
    "\n",
    "Majority of our loans are in the 'A' and 'C' category which represents healthy loans. The risk department can assess if this is a appropriate non-performing loan balance that the bank is willing to tolerate."
   ]
  },
  {
   "cell_type": "code",
   "execution_count": 229,
   "id": "ead7d3f2",
   "metadata": {
    "scrolled": true
   },
   "outputs": [
    {
     "data": {
      "text/plain": [
       "Text(0, 0.5, 'Bank balance during loan')"
      ]
     },
     "execution_count": 229,
     "metadata": {},
     "output_type": "execute_result"
    },
    {
     "data": {
      "image/png": "[encoded data removed]",
      "text/plain": [
       "<Figure size 432x288 with 1 Axes>"
      ]
     },
     "metadata": {
      "needs_background": "light"
     },
     "output_type": "display_data"
    }
   ],
   "source": [
    "ax = sns.boxplot(x='loan_taken', y='bank_balance_at_loan2', data=final)\n",
    "plt.title('Bank balance during loan between customers')\n",
    "plt.xlabel('Loan taken')\n",
    "plt.ylabel('Bank balance during loan')"
   ]
  },
  {
   "cell_type": "markdown",
   "id": "197e4853",
   "metadata": {},
   "source": [
    "From the boxplot, we can infer that customers that have taken a loan with us generally have a lower bank balance. The top customers are hence unlikely to take up our loans. Also there are customers with a negative bank balance in the 0 category. This means that an overdraft does not constitute a loan in our analysis."
   ]
  },
  {
   "cell_type": "code",
   "execution_count": 230,
   "id": "73acada1",
   "metadata": {},
   "outputs": [
    {
     "data": {
      "text/plain": [
       "<seaborn.axisgrid.JointGrid at 0x204e8d77a30>"
      ]
     },
     "execution_count": 230,
     "metadata": {},
     "output_type": "execute_result"
    },
    {
     "data": {
      "image/png": "[encoded data removed]",
      "text/plain": [
       "<Figure size 432x432 with 3 Axes>"
      ]
     },
     "metadata": {
      "needs_background": "light"
     },
     "output_type": "display_data"
    }
   ],
   "source": [
    "sns.jointplot(x='amount',y='bank_balance_at_loan',data=final, hue='gender')"
   ]
  },
  {
   "cell_type": "markdown",
   "id": "06b1212c",
   "metadata": {},
   "source": [
    "From the scatterplot chart, we can see that there is no correlation between bank balance and loan amount taken up. The genders are also not concentrated in any area of the chart which shows that there is no meaningful relationship between gender, loan taken up and bank balance as loan."
   ]
  },
  {
   "cell_type": "code",
   "execution_count": 231,
   "id": "60182c8f",
   "metadata": {
    "scrolled": true
   },
   "outputs": [
    {
     "data": {
      "text/plain": [
       "Text(0.5, 0, 'loan amount')"
      ]
     },
     "execution_count": 231,
     "metadata": {},
     "output_type": "execute_result"
    },
    {
     "data": {
      "image/png": "[encoded data removed]",
      "text/plain": [
       "<Figure size 432x288 with 1 Axes>"
      ]
     },
     "metadata": {},
     "output_type": "display_data"
    }
   ],
   "source": [
    "sns.set_style('whitegrid')\n",
    "final['amount'].hist(bins=30)\n",
    "plt.xlabel('loan amount')"
   ]
  },
  {
   "cell_type": "markdown",
   "id": "c7605b72",
   "metadata": {},
   "source": [
    "The histogram shows that our loans issued are generally around Czech Koruna 100,000."
   ]
  },
  {
   "cell_type": "code",
   "execution_count": 232,
   "id": "9de31dde",
   "metadata": {
    "scrolled": false
   },
   "outputs": [
    {
     "data": {
      "text/plain": [
       "Text(0.5, 0, 'age')"
      ]
     },
     "execution_count": 232,
     "metadata": {},
     "output_type": "execute_result"
    },
    {
     "data": {
      "image/png": "[encoded data removed]",
      "text/plain": [
       "<Figure size 432x288 with 1 Axes>"
      ]
     },
     "metadata": {},
     "output_type": "display_data"
    }
   ],
   "source": [
    "sns.set_style('whitegrid')\n",
    "final['age'].hist(bins=30)\n",
    "plt.xlabel('age')"
   ]
  },
  {
   "cell_type": "markdown",
   "id": "dbd944a6",
   "metadata": {},
   "source": [
    "Based on the histogram of age, there is no specified target age group for our customers"
   ]
  },
  {
   "cell_type": "markdown",
   "id": "a6fb8272",
   "metadata": {},
   "source": [
    "# 10. Exporting Final Dataset\n",
    "We will export the final dataset to be used in the prediction model. We will therefore not have to go through the entire data transformation process before we begin the building the prediction model. The final dataset can also be an input to other prediction softwares such as jmp, Dataiku and Alteryx."
   ]
  },
  {
   "cell_type": "code",
   "execution_count": 233,
   "id": "9185e589",
   "metadata": {},
   "outputs": [],
   "source": [
    "final.to_csv('final.csv', index=False)"
   ]
  }
 ],
 "metadata": {
  "kernelspec": {
   "display_name": "Python 3 (ipykernel)",
   "language": "python",
   "name": "python3"
  },
  "language_info": {
   "codemirror_mode": {
    "name": "ipython",
    "version": 3
   },
   "file_extension": ".py",
   "mimetype": "text/x-python",
   "name": "python",
   "nbconvert_exporter": "python",
   "pygments_lexer": "ipython3",
   "version": "3.9.7"
  }
 },
 "nbformat": 4,
 "nbformat_minor": 5
}
