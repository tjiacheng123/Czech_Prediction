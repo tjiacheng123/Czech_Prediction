{
 "cells": [
  {
   "cell_type": "markdown",
   "id": "b8a1a96b",
   "metadata": {},
   "source": [
    "# Loan Prediction\n",
    "This notebook is a documentation of the process of predicting the loan taken up for the bank customers. It includes the data transformation and data exploration process.\n",
    "<br/>\n",
    "\n",
    "The prediction model can be found in the loan prediction modelling file.\n",
    "<br>\n",
    "### Table of Content\n",
    "1. Import Libraries and Datasets\n",
    "2. Features Selection\n",
    "3. Building Logistic Regression Model\n",
    "4. Predictions and Evaluations\n",
    "5. Further improvements"
   ]
  },
  {
   "cell_type": "markdown",
   "id": "9e125fc1",
   "metadata": {},
   "source": [
    "## 1. Import Libraries and Datasets"
   ]
  },
  {
   "cell_type": "code",
   "execution_count": 104,
   "id": "90299f71",
   "metadata": {},
   "outputs": [],
   "source": [
    "import pandas as pd\n",
    "import numpy as np\n",
    "from datetime import datetime\n",
    "import pandasql as ps\n",
    "from datetime import date\n",
    "\n",
    "# Data exploration\n",
    "import matplotlib.pyplot as plt\n",
    "import seaborn as sns\n",
    "from matplotlib import pyplot\n",
    "%matplotlib inline\n",
    "\n",
    "pd.options.mode.chained_assignment = None  # default='warn'"
   ]
  },
  {
   "cell_type": "code",
   "execution_count": 47,
   "id": "a3a0190c",
   "metadata": {},
   "outputs": [],
   "source": [
    "final = pd.read_csv(\"final.csv\")"
   ]
  },
  {
   "cell_type": "markdown",
   "id": "31c36077",
   "metadata": {},
   "source": [
    "## 2. Features Selection\n",
    "The final file after data wrangling and transformation includes many features. Some of which are not required to be inputs in our prediction model. To ensure that we only have the features that we need, we will have to identify them and remove the unnecessary features."
   ]
  },
  {
   "cell_type": "code",
   "execution_count": 49,
   "id": "1e496205",
   "metadata": {},
   "outputs": [],
   "source": [
    "order = ['bank_balance_at_loan2','avg_trans_amt','no_trans','average_salary','no_of_inhabitants',\n",
    "        'unemployment_rate','no_of_entrepreneurs','no_of_crime','loan_taken']\n",
    "pred_model = final[order]"
   ]
  },
  {
   "cell_type": "markdown",
   "id": "338621b0",
   "metadata": {},
   "source": [
    "The feature unemployment rate has '?' values and is in str type. This will cause an error when building a prediction model. There is no unemployment rate available for district '69' and we will replace the '?' values with the average unemployment rate in Czech. We will also convert the data type from str to float."
   ]
  },
  {
   "cell_type": "code",
   "execution_count": 82,
   "id": "bc1feb81",
   "metadata": {},
   "outputs": [],
   "source": [
    "pred_model['unemployment_rate']= pred_model['unemployment_rate'].replace('?','')\n",
    "unemployment_mean = pred_model['unemployment_rate'].mean()\n",
    "pred_model['unemployment_rate'].fillna(unemployment_mean)\n",
    "pred_model['unemployment_rate'] = pred_model['unemployment_rate'].apply(float)"
   ]
  },
  {
   "cell_type": "code",
   "execution_count": 93,
   "id": "0d5cfbda",
   "metadata": {},
   "outputs": [
    {
     "name": "stdout",
     "output_type": "stream",
     "text": [
      "<class 'pandas.core.frame.DataFrame'>\n",
      "RangeIndex: 4500 entries, 0 to 4499\n",
      "Data columns (total 9 columns):\n",
      " #   Column                 Non-Null Count  Dtype  \n",
      "---  ------                 --------------  -----  \n",
      " 0   bank_balance_at_loan2  4500 non-null   float64\n",
      " 1   avg_trans_amt          4500 non-null   float64\n",
      " 2   no_trans               4500 non-null   float64\n",
      " 3   average_salary         4500 non-null   int64  \n",
      " 4   no_of_inhabitants      4500 non-null   int64  \n",
      " 5   unemployment_rate      4500 non-null   float64\n",
      " 6   no_of_entrepreneurs    4500 non-null   int64  \n",
      " 7   no_of_crime            4500 non-null   int64  \n",
      " 8   loan_taken             4500 non-null   int64  \n",
      "dtypes: float64(4), int64(5)\n",
      "memory usage: 316.5 KB\n"
     ]
    }
   ],
   "source": [
    "pred_model.info()"
   ]
  },
  {
   "cell_type": "markdown",
   "id": "e36530c1",
   "metadata": {},
   "source": [
    "## 3. Building Logistic Regression Model\n",
    "\n",
    "We will have import the sklearn library and split our data into training set and testing set."
   ]
  },
  {
   "cell_type": "code",
   "execution_count": 83,
   "id": "d9ed8ab3",
   "metadata": {},
   "outputs": [],
   "source": [
    "from sklearn.model_selection import train_test_split"
   ]
  },
  {
   "cell_type": "code",
   "execution_count": 84,
   "id": "ee425ac4",
   "metadata": {},
   "outputs": [],
   "source": [
    "X = pred_model[['bank_balance_at_loan2','avg_trans_amt','no_trans','average_salary','no_of_inhabitants',\n",
    "        'unemployment_rate','no_of_entrepreneurs','no_of_crime']]\n",
    "y = pred_model['loan_taken']"
   ]
  },
  {
   "cell_type": "code",
   "execution_count": 85,
   "id": "760dec07",
   "metadata": {},
   "outputs": [],
   "source": [
    "X_train, X_test, y_train, y_test = train_test_split(X, y, test_size=0.33, random_state=42)"
   ]
  },
  {
   "cell_type": "code",
   "execution_count": 86,
   "id": "cc764893",
   "metadata": {},
   "outputs": [],
   "source": [
    "from sklearn.linear_model import LogisticRegression"
   ]
  },
  {
   "cell_type": "code",
   "execution_count": 87,
   "id": "67a0449c",
   "metadata": {},
   "outputs": [
    {
     "data": {
      "text/plain": [
       "LogisticRegression()"
      ]
     },
     "execution_count": 87,
     "metadata": {},
     "output_type": "execute_result"
    }
   ],
   "source": [
    "logmodel = LogisticRegression()\n",
    "logmodel.fit(X_train,y_train)"
   ]
  },
  {
   "cell_type": "markdown",
   "id": "45c4fa5e",
   "metadata": {},
   "source": [
    "## 4. Predictions and Evaluations\n",
    "We will now input our training model into our test dataset. We will use a classification report to acccess the accuracy of our prediction model."
   ]
  },
  {
   "cell_type": "code",
   "execution_count": 88,
   "id": "26f1eb31",
   "metadata": {},
   "outputs": [],
   "source": [
    "predictions = logmodel.predict(X_test)"
   ]
  },
  {
   "cell_type": "code",
   "execution_count": 89,
   "id": "44a31140",
   "metadata": {},
   "outputs": [],
   "source": [
    "from sklearn.metrics import classification_report"
   ]
  },
  {
   "cell_type": "code",
   "execution_count": 90,
   "id": "1f927435",
   "metadata": {},
   "outputs": [
    {
     "name": "stdout",
     "output_type": "stream",
     "text": [
      "              precision    recall  f1-score   support\n",
      "\n",
      "           0       0.91      0.96      0.93      1251\n",
      "           1       0.69      0.46      0.55       234\n",
      "\n",
      "    accuracy                           0.88      1485\n",
      "   macro avg       0.80      0.71      0.74      1485\n",
      "weighted avg       0.87      0.88      0.87      1485\n",
      "\n"
     ]
    }
   ],
   "source": [
    "print(classification_report(y_test,predictions))"
   ]
  },
  {
   "cell_type": "markdown",
   "id": "b7749152",
   "metadata": {},
   "source": [
    "The model has an accuracy of 88% which shows the effectiveness of the model in predicting loan taken up for existing customers. Next we can use a graph to show which features are crucial in predicting loan taken up. "
   ]
  },
  {
   "cell_type": "code",
   "execution_count": 116,
   "id": "aa196436",
   "metadata": {},
   "outputs": [
    {
     "name": "stdout",
     "output_type": "stream",
     "text": [
      "Feature: 0, Score: -0.00001\n",
      "Feature: 1, Score: 0.00027\n",
      "Feature: 2, Score: -0.02351\n",
      "Feature: 3, Score: -0.00004\n",
      "Feature: 4, Score: 0.00000\n",
      "Feature: 5, Score: -0.00002\n",
      "Feature: 6, Score: -0.00009\n",
      "Feature: 7, Score: -0.00004\n"
     ]
    }
   ],
   "source": [
    "importance = logmodel.coef_[0]\n",
    "for i,v in enumerate(importance):\n",
    "    print('Feature: %0d, Score: %.5f' % (i,v))"
   ]
  },
  {
   "cell_type": "code",
   "execution_count": 117,
   "id": "179612c8",
   "metadata": {
    "scrolled": true
   },
   "outputs": [
    {
     "data": {
      "image/png": "[encoded data removed]",
      "text/plain": [
       "<Figure size 432x288 with 1 Axes>"
      ]
     },
     "metadata": {
      "needs_background": "light"
     },
     "output_type": "display_data"
    }
   ],
   "source": [
    "pyplot.bar([x for x in range(len(importance))], importance)\n",
    "pyplot.show()"
   ]
  },
  {
   "cell_type": "markdown",
   "id": "fdbb1a91",
   "metadata": {},
   "source": [
    "From the graph, we can see that feature 1 and 2 are the top 2 most important features to predict loan taken up. The two features are average transaction amount and the number of transactions made. These features are only available when the customers have taken up a bank account and transacted with us. More features about the individual customers would be required to build a prediction model to assess likelihood of loan taken up for new customers.\n",
    "</br>\n",
    "\n",
    "The model can be used on existing customer database to identify which customers we should focus our marketing campaigns on."
   ]
  },
  {
   "cell_type": "markdown",
   "id": "7eecea9a",
   "metadata": {},
   "source": [
    "## 5. Further Improvements\n",
    "Further enhancements can be made to improve the accuracy of the model. We can perform average standard rescaling on the numeric features and introduce gender and district into the model. If we were to introduce gender and district into the model, we have to perform one-hot encoding before we can input these features into the model."
   ]
  }
 ],
 "metadata": {
  "kernelspec": {
   "display_name": "Python 3 (ipykernel)",
   "language": "python",
   "name": "python3"
  },
  "language_info": {
   "codemirror_mode": {
    "name": "ipython",
    "version": 3
   },
   "file_extension": ".py",
   "mimetype": "text/x-python",
   "name": "python",
   "nbconvert_exporter": "python",
   "pygments_lexer": "ipython3",
   "version": "3.9.7"
  }
 },
 "nbformat": 4,
 "nbformat_minor": 5
}
