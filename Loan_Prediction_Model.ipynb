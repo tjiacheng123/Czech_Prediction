{
 "cells": [
  {
   "cell_type": "markdown",
   "id": "b8a1a96b",
   "metadata": {},
   "source": [
    "# Loan Prediction\n",
    "This notebook is a documentation of the process of predicting the loan taken up for the bank customers. It includes the data transformation and data exploration process.\n",
    "<br/>\n",
    "\n",
    "The prediction model can be found in the loan prediction modelling file.\n",
    "<br>\n",
    "### Table of Content\n",
    "1. Import Libraries and Datasets\n",
    "2. Features Selection\n",
    "3. One Hot Encoding on Categorical Features\n",
    "4. Model Building \n",
    "5. Predictions and Evaluations \n",
    "6. Further improvements"
   ]
  },
  {
   "cell_type": "markdown",
   "id": "9e125fc1",
   "metadata": {},
   "source": [
    "## 1. Import Libraries and Datasets"
   ]
  },
  {
   "cell_type": "code",
   "execution_count": 385,
   "id": "90299f71",
   "metadata": {},
   "outputs": [],
   "source": [
    "import pandas as pd\n",
    "import numpy as np\n",
    "from datetime import datetime\n",
    "import pandasql as ps\n",
    "from datetime import date\n",
    "\n",
    "# Data exploration\n",
    "import matplotlib.pyplot as plt\n",
    "import seaborn as sns\n",
    "from matplotlib import pyplot\n",
    "%matplotlib inline\n",
    "\n",
    "pd.options.mode.chained_assignment = None  # default='warn'"
   ]
  },
  {
   "cell_type": "code",
   "execution_count": 386,
   "id": "a3a0190c",
   "metadata": {},
   "outputs": [],
   "source": [
    "final = pd.read_csv(\"final.csv\")"
   ]
  },
  {
   "cell_type": "markdown",
   "id": "31c36077",
   "metadata": {},
   "source": [
    "## 2. Features Selection\n",
    "There are many features in the final file after performing data wrangling and transformation. Some of which are not required to be inputs in our prediction model. To ensure that we only have the features that we need, we will have to identify them and remove the unnecessary features."
   ]
  },
  {
   "cell_type": "code",
   "execution_count": 387,
   "id": "1e496205",
   "metadata": {},
   "outputs": [],
   "source": [
    "order = ['district_id','gender','age','bank_balance_at_loan2','avg_trans_amt','no_trans','average_salary','no_of_inhabitants',\n",
    "        'unemployment_rate','no_of_entrepreneurs','no_of_crime','loan_taken']\n",
    "pred_model = final[order]"
   ]
  },
  {
   "cell_type": "markdown",
   "id": "338621b0",
   "metadata": {},
   "source": [
    "The feature 'unemployment rate' has '?' values and is in str type. This will cause an error when building a prediction model. There is no unemployment rate available for district '69' and we will replace the '?' values with the average unemployment rate in Czech. We will also convert the data type from str to float."
   ]
  },
  {
   "cell_type": "code",
   "execution_count": 388,
   "id": "57bc0390",
   "metadata": {},
   "outputs": [],
   "source": [
    "pred_model['unemployment_rate']= pred_model['unemployment_rate'].replace('?',np.nan)"
   ]
  },
  {
   "cell_type": "code",
   "execution_count": 389,
   "id": "e9822641",
   "metadata": {},
   "outputs": [],
   "source": [
    "pred_model['unemployment_rate'] = pred_model['unemployment_rate'].apply(float)"
   ]
  },
  {
   "cell_type": "code",
   "execution_count": 390,
   "id": "fd6e8a80",
   "metadata": {},
   "outputs": [],
   "source": [
    "unemployment_mean = pred_model['unemployment_rate'].mean()"
   ]
  },
  {
   "cell_type": "code",
   "execution_count": 391,
   "id": "74fa0d40",
   "metadata": {},
   "outputs": [
    {
     "data": {
      "text/plain": [
       "True"
      ]
     },
     "execution_count": 391,
     "metadata": {},
     "output_type": "execute_result"
    }
   ],
   "source": [
    "pred_model.isnull().values.any()"
   ]
  },
  {
   "cell_type": "code",
   "execution_count": 392,
   "id": "57944f5e",
   "metadata": {},
   "outputs": [],
   "source": [
    "pred_model['unemployment_rate'] = pred_model['unemployment_rate'].fillna(unemployment_mean)"
   ]
  },
  {
   "cell_type": "markdown",
   "id": "12734618",
   "metadata": {},
   "source": [
    "## 3. One Hot Encoding on Categorical Features\n",
    "In order to fit the categorical features into our logistic regression model, we will have to apply one-hot encoding on the categorical variables (district and gender)."
   ]
  },
  {
   "cell_type": "markdown",
   "id": "caae01a0",
   "metadata": {},
   "source": [
    "To perform one-hot encoding, we'll be importing the necessary libraries from skicit learn package. We'll then encode the district and gender columns and join the encoded data onto the original dataset. Following that, we'll rename the columns for the encoded data and drop the original district and gender columns to prevent repetition of data."
   ]
  },
  {
   "cell_type": "code",
   "execution_count": 393,
   "id": "192ff8ff",
   "metadata": {},
   "outputs": [],
   "source": [
    "from sklearn.preprocessing import OneHotEncoder"
   ]
  },
  {
   "cell_type": "code",
   "execution_count": 394,
   "id": "be4e6b6c",
   "metadata": {},
   "outputs": [],
   "source": [
    "encoder = OneHotEncoder(handle_unknown='ignore')\n",
    "encoder_df = pd.DataFrame(encoder.fit_transform(pred_model[['gender']]).toarray())\n",
    "final_pred_model = pred_model.join(encoder_df)\n",
    "final_pred_model = final_pred_model.rename(columns = {0: 'female', 1 :'male'})\n",
    "final_pred_model.drop('gender',axis=1, inplace=True)"
   ]
  },
  {
   "cell_type": "code",
   "execution_count": 395,
   "id": "ab8d7dd9",
   "metadata": {},
   "outputs": [],
   "source": [
    "encoder = OneHotEncoder(handle_unknown='ignore')\n",
    "encoder_df = pd.DataFrame(encoder.fit_transform(final_pred_model[['district_id']]).toarray())\n",
    "final_pred_model = final_pred_model.join(encoder_df)\n",
    "final_pred_model = final_pred_model.rename(columns = {\n",
    "    0:'prague', 1:'benesov', 2:'beroun', 3:'kladno', 4:'kolin', 5:'kutna_hora', 6:'melnik', 7:'mlada_boleslav', 8:'nymburk',\n",
    "    9:'praha_vychod', 10:'praha_zapad', 11:'pribram', 12:'rakovnik', 13:'ceske_budejovice', 14:'cesky_krumlov', \n",
    "    15:'jindrichuv_hradec',16:'pelhrimov', 17:'pisek', 18:'prachatice', 19:'strakonice', 20:'tabor', 21:'domazlice', \n",
    "    22:'cheb', 23:'karlovy_vary', 24:'klatovy', 25:'plzen_mesto', 26:'plzen_jih', 27:'plzen_sever', 28:'rokycany', \n",
    "    29:'sokolov', 30:'tachov', 31:'ceska_lipa', 32:'decin', 33:'chomutov', 34:'jablonec_nisou', 35:'liberec', 36:'litomerice',\n",
    "    37:'louny', 38:'most', 39:'teplice', 40:'usti_nad_labem', 41:'havlikuv_brov', 42:'hradec_kralove', 43:'chrudim',\n",
    "    44:'jicin', 45:'nachod', 46:'pardubice', 47:'rychnov_nad_kneznou', 48:'semily', 49:'svitavy', 50:'trutnov', \n",
    "    51:'usti_nad_orlici', 52:'blansko', 53:'brno_mesto', 54:'brno_venkov', 55:'breclav', 56:'hodonin', 57:'jihlava',\n",
    "    58:'kromeriz', 59:'prostejov', 60:'trebic', 61:'uherske_hradiste', 62:'vsykov', 63:'zlin', 64:'znojmo',\n",
    "    65:'zdar_nad_sazavou', 66:'bruntal', 67:'frydek_mistek', 68:'jesenik', 69:'karvina', 70:'novy_jicin', 71:'olomouc',\n",
    "    72:'opava', 73:'ostrava_mesto', 74:'prerov', 75:'sumperk', 76:'vsetin'\n",
    "})\n",
    "final_pred_model.drop('district_id',axis=1, inplace=True)"
   ]
  },
  {
   "cell_type": "markdown",
   "id": "e36530c1",
   "metadata": {},
   "source": [
    "## 4. Model Building\n",
    "\n",
    "We will import the sklearn library and split our data into training set & testing set. We'll first ensure that we have a satisfactory performance metrics from our training set before inputing the testing set into our logistic regression model."
   ]
  },
  {
   "cell_type": "code",
   "execution_count": 396,
   "id": "d9ed8ab3",
   "metadata": {},
   "outputs": [],
   "source": [
    "from sklearn.model_selection import train_test_split"
   ]
  },
  {
   "cell_type": "code",
   "execution_count": 397,
   "id": "1317933c",
   "metadata": {},
   "outputs": [],
   "source": [
    "X = final_pred_model[final_pred_model.columns.difference(['loan_taken'])]\n",
    "y = final_pred_model['loan_taken']"
   ]
  },
  {
   "cell_type": "code",
   "execution_count": 398,
   "id": "760dec07",
   "metadata": {},
   "outputs": [],
   "source": [
    "X_train, X_test, y_train, y_test = train_test_split(X, y, test_size=0.33, random_state=42)"
   ]
  },
  {
   "cell_type": "code",
   "execution_count": 399,
   "id": "cc764893",
   "metadata": {},
   "outputs": [],
   "source": [
    "from sklearn.linear_model import LogisticRegression"
   ]
  },
  {
   "cell_type": "code",
   "execution_count": 400,
   "id": "67a0449c",
   "metadata": {},
   "outputs": [
    {
     "data": {
      "text/plain": [
       "LogisticRegression()"
      ]
     },
     "execution_count": 400,
     "metadata": {},
     "output_type": "execute_result"
    }
   ],
   "source": [
    "logmodel = LogisticRegression()\n",
    "logmodel.fit(X_train,y_train)"
   ]
  },
  {
   "cell_type": "markdown",
   "id": "45c4fa5e",
   "metadata": {},
   "source": [
    "## 5. Predictions and Evaluations"
   ]
  },
  {
   "cell_type": "markdown",
   "id": "b743fb33",
   "metadata": {},
   "source": [
    "## 5.1 Model 1 - Logistic Regression Model\n",
    "For model 1, we will be including all the available features from the dataset provided. The aim is to identify the important features and remove the features that have no correlation with the target variable."
   ]
  },
  {
   "cell_type": "code",
   "execution_count": 401,
   "id": "26f1eb31",
   "metadata": {},
   "outputs": [],
   "source": [
    "predictions = logmodel.predict(X_train)"
   ]
  },
  {
   "cell_type": "code",
   "execution_count": 402,
   "id": "44a31140",
   "metadata": {},
   "outputs": [],
   "source": [
    "from sklearn.metrics import classification_report"
   ]
  },
  {
   "cell_type": "code",
   "execution_count": 403,
   "id": "1f927435",
   "metadata": {},
   "outputs": [
    {
     "name": "stdout",
     "output_type": "stream",
     "text": [
      "              precision    recall  f1-score   support\n",
      "\n",
      "           0       0.91      0.96      0.94      2567\n",
      "           1       0.70      0.48      0.57       448\n",
      "\n",
      "    accuracy                           0.89      3015\n",
      "   macro avg       0.81      0.72      0.76      3015\n",
      "weighted avg       0.88      0.89      0.88      3015\n",
      "\n"
     ]
    }
   ],
   "source": [
    "print(classification_report(y_train,predictions))"
   ]
  },
  {
   "cell_type": "markdown",
   "id": "b7749152",
   "metadata": {},
   "source": [
    "The model has an accuracy of 89% which shows the effectiveness of the model in predicting loan taken up for existing customers. \n",
    "</br>\n",
    "\n",
    "Next we'll look at the model statistics to determine if there should be any features that we should drop to improve the model."
   ]
  },
  {
   "cell_type": "code",
   "execution_count": 404,
   "id": "b0c24d53",
   "metadata": {
    "scrolled": true
   },
   "outputs": [
    {
     "name": "stdout",
     "output_type": "stream",
     "text": [
      "Warning: Maximum number of iterations has been exceeded.\n",
      "         Current function value: 0.225359\n",
      "         Iterations: 35\n",
      "                                    Results: Logit\n",
      "======================================================================================\n",
      "Model:                      Logit                  Pseudo R-squared:       0.464      \n",
      "Dependent Variable:         loan_taken             AIC:                    1522.9162  \n",
      "Date:                       2022-04-05 21:10       BIC:                    2015.8473  \n",
      "No. Observations:           3015                   Log-Likelihood:         -679.46    \n",
      "Df Model:                   81                     LL-Null:                -1267.1    \n",
      "Df Residuals:               2933                   LLR p-value:            1.2661e-193\n",
      "Converged:                  0.0000                 Scale:                  1.0000     \n",
      "No. Iterations:             35.0000                                                   \n",
      "--------------------------------------------------------------------------------------\n",
      "                       Coef.     Std.Err.      z     P>|z|      [0.025       0.975]   \n",
      "--------------------------------------------------------------------------------------\n",
      "age                    -0.0090       0.0047  -1.8972 0.0578       -0.0183       0.0003\n",
      "average_salary         -0.0008      30.6944  -0.0000 1.0000      -60.1608      60.1591\n",
      "avg_trans_amt           0.0003       0.0000  13.9002 0.0000        0.0002       0.0003\n",
      "bank_balance_at_loan2  -0.0000       0.0000  -4.0163 0.0001       -0.0000      -0.0000\n",
      "benesov                 0.4821  877496.6456   0.0000 1.0000 -1719861.3398 1719862.3040\n",
      "beroun                  2.1966 1121386.3827   0.0000 1.0000 -2197874.7262 2197879.1194\n",
      "blansko                 0.7564  928356.1662   0.0000 1.0000 -1819543.8942 1819545.4069\n",
      "breclav                 0.5988          nan      nan    nan           nan          nan\n",
      "brno_mesto             -1.5929 2482835.6205  -0.0000 1.0000 -4866269.9885 4866266.8028\n",
      "brno_venkov             1.0512 1351717.9649   0.0000 1.0000 -2649317.4773 2649319.5796\n",
      "bruntal                -0.1333          nan      nan    nan           nan          nan\n",
      "ceska_lipa              1.5709  889002.8597   0.0000 1.0000 -1742412.0162 1742415.1580\n",
      "ceske_budejovice        0.2059 1478406.5056   0.0000 1.0000 -2897623.2995 2897623.7114\n",
      "cesky_krumlov           0.2461          nan      nan    nan           nan          nan\n",
      "cheb                    0.0810 1319290.2038   0.0000 1.0000 -2585761.2036 2585761.3656\n",
      "chomutov                1.3822          nan      nan    nan           nan          nan\n",
      "chrudim                 0.5556  874028.8030   0.0000 1.0000 -1713064.4197 1713065.5309\n",
      "decin                  -0.4368          nan      nan    nan           nan          nan\n",
      "domazlice               0.0838 1331129.1000   0.0000 1.0000 -2608965.0110 2608965.1787\n",
      "female                  0.3690          nan      nan    nan           nan          nan\n",
      "frydek_mistek           0.7398 1121178.3757   0.0000 1.0000 -2197468.4968 2197469.9764\n",
      "havlikuv_brov           1.4658 1073614.6513   0.0000 1.0000 -2104244.5840 2104247.5156\n",
      "hodonin                -0.8937          nan      nan    nan           nan          nan\n",
      "hradec_kralove          0.1305 1254805.3700   0.0000 1.0000 -2459373.2023 2459373.4632\n",
      "jablonec_nisou         -1.2520 1274257.8449  -0.0000 1.0000 -2497500.7350 2497498.2310\n",
      "jesenik                -0.5498          nan      nan    nan           nan          nan\n",
      "jicin                  -0.6363          nan      nan    nan           nan          nan\n",
      "jihlava                 2.3325  442602.1001   0.0000 1.0000  -867481.8433  867486.5082\n",
      "jindrichuv_hradec       1.1960 1325410.5137   0.0000 1.0000 -2597755.6757 2597758.0676\n",
      "karlovy_vary            0.9030 1397117.4473   0.0000 1.0000 -2738298.9759 2738300.7819\n",
      "karvina                 1.1123  566834.5075   0.0000 1.0000 -1110974.1076 1110976.3321\n",
      "kladno                  1.1817          nan      nan    nan           nan          nan\n",
      "klatovy                -1.1214  733363.0948  -0.0000 1.0000 -1437366.3748 1437364.1320\n",
      "kolin                   0.2488          nan      nan    nan           nan          nan\n",
      "kromeriz                0.0320  188886.1012   0.0000 1.0000  -370209.9235  370209.9875\n",
      "kutna_hora              0.8212          nan      nan    nan           nan          nan\n",
      "liberec                -0.8329  794453.8011  -0.0000 1.0000 -1557101.6704 1557100.0045\n",
      "litomerice             -0.3007          nan      nan    nan           nan          nan\n",
      "louny                   1.2214          nan      nan    nan           nan          nan\n",
      "male                    0.2443          nan      nan    nan           nan          nan\n",
      "melnik                  1.1628 1008072.8137   0.0000 1.0000 -1975785.2459 1975787.5715\n",
      "mlada_boleslav          1.5905 1482064.3352   0.0000 1.0000 -2904791.1293 2904794.3102\n",
      "most                    2.2128          nan      nan    nan           nan          nan\n",
      "nachod                 -0.8518 1103939.7993  -0.0000 1.0000 -2163683.0996 2163681.3959\n",
      "no_of_crime            -0.0002          nan      nan    nan           nan          nan\n",
      "no_of_entrepreneurs     0.0459          nan      nan    nan           nan          nan\n",
      "no_of_inhabitants       0.0000       2.5871   0.0000 1.0000       -5.0705       5.0706\n",
      "no_trans               -0.0247       0.0015 -16.7472 0.0000       -0.0276      -0.0219\n",
      "novy_jicin             -1.7429          nan      nan    nan           nan          nan\n",
      "nymburk                -1.2372          nan      nan    nan           nan          nan\n",
      "olomouc                 0.5190 1519329.7954   0.0000 1.0000 -2977831.1606 2977832.1986\n",
      "opava                   0.3541 1195358.2617   0.0000 1.0000 -2342858.7874 2342859.4955\n",
      "ostrava_mesto           1.5897 2277162.0216   0.0000 1.0000 -4463153.9597 4463157.1391\n",
      "pardubice               1.3310 1583707.6852   0.0000 1.0000 -3104008.6940 3104011.3559\n",
      "pelhrimov               0.4496  231214.1785   0.0000 1.0000  -453171.0129  453171.9121\n",
      "pisek                  -0.4921          nan      nan    nan           nan          nan\n",
      "plzen_jih               1.5215 1340848.3216   0.0000 1.0000 -2628012.8976 2628015.9405\n",
      "plzen_mesto             0.9368 1169141.3285   0.0000 1.0000 -2291473.9599 2291475.8334\n",
      "plzen_sever             0.7883 1065378.7883   0.0000 1.0000 -2088103.2666 2088104.8432\n",
      "prachatice              0.8580          nan      nan    nan           nan          nan\n",
      "prague                 -0.2580 4309591.8850  -0.0000 1.0000 -8446645.1406 8446644.6246\n",
      "praha_vychod            1.4337 1366225.2713   0.0000 1.0000 -2677750.8928 2677753.7603\n",
      "praha_zapad             0.5453 1066163.6427   0.0000 1.0000 -2089641.7961 2089642.8866\n",
      "prerov                 -0.9928          nan      nan    nan           nan          nan\n",
      "pribram                -1.5268          nan      nan    nan           nan          nan\n",
      "prostejov               0.5954          nan      nan    nan           nan          nan\n",
      "rakovnik                1.3651          nan      nan    nan           nan          nan\n",
      "rokycany                1.6452          nan      nan    nan           nan          nan\n",
      "rychnov_nad_kneznou     1.0125  833811.6172   0.0000 1.0000 -1634239.7271 1634241.7522\n",
      "semily                 -1.5202          nan      nan    nan           nan          nan\n",
      "sokolov               -27.5967 1000551.3042  -0.0000 1.0000 -1961072.1176 1961016.9242\n",
      "strakonice              0.3227          nan      nan    nan           nan          nan\n",
      "sumperk                 0.2896          nan      nan    nan           nan          nan\n",
      "svitavy                 1.6437          nan      nan    nan           nan          nan\n",
      "tabor                   0.2874 1095024.0089   0.0000 1.0000 -2146207.3321 2146207.9070\n",
      "tachov                  0.7580          nan      nan    nan           nan          nan\n",
      "teplice                 1.5263          nan      nan    nan           nan          nan\n",
      "trebic                 -0.2049          nan      nan    nan           nan          nan\n",
      "trutnov                -1.2023  725791.8728  -0.0000 1.0000 -1422527.1333 1422524.7287\n",
      "uherske_hradiste        0.9384 1388894.1098   0.0000 1.0000 -2722181.4951 2722183.3719\n",
      "unemployment_rate       0.1334          nan      nan    nan           nan          nan\n",
      "usti_nad_labem          0.3519  829473.1791   0.0000 1.0000 -1625737.2052 1625737.9090\n",
      "usti_nad_orlici         0.7833 1014587.0110   0.0000 1.0000 -1988553.2175 1988554.7841\n",
      "vsetin                 -1.1678          nan      nan    nan           nan          nan\n",
      "vsykov                  0.4284          nan      nan    nan           nan          nan\n",
      "zdar_nad_sazavou        0.2520          nan      nan    nan           nan          nan\n",
      "zlin                   -0.9122 1090895.3411  -0.0000 1.0000 -2138116.4917 2138114.6673\n",
      "znojmo                 -0.0197          nan      nan    nan           nan          nan\n",
      "======================================================================================\n",
      "\n"
     ]
    },
    {
     "name": "stderr",
     "output_type": "stream",
     "text": [
      "C:\\Users\\User\\anaconda3\\lib\\site-packages\\statsmodels\\base\\model.py:566: ConvergenceWarning: Maximum Likelihood optimization failed to converge. Check mle_retvals\n",
      "  warnings.warn(\"Maximum Likelihood optimization failed to \"\n"
     ]
    }
   ],
   "source": [
    "import statsmodels.api as sm\n",
    "logit_model=sm.Logit(y_train,X_train)\n",
    "result=logit_model.fit()\n",
    "print(result.summary2())"
   ]
  },
  {
   "cell_type": "markdown",
   "id": "38137ff8",
   "metadata": {},
   "source": [
    "The stats model shows a lot of nan p values particularly for districts. It seems that the optimization has converged. The optimization picks one solution out of the optimal set (Prague out of all the districts), and the remaining districts have converged. \n",
    "</br>\n",
    "\n",
    "There are also a lot of features with p-values greater than 0.05 which indicates that we should accept the null hypothesis. The null hypothesis being there is no linear relationship between the variable and the Y-factor. Hence, we need to drop these features in the next model."
   ]
  },
  {
   "cell_type": "markdown",
   "id": "055f451e",
   "metadata": {},
   "source": [
    "## 4.2 Model 2 - Feature reduction\n",
    "For the second model, we will remove the features that have converged. We will also reassess the p-values for the remaining features and perform a feature importance ranking to assess the drivers behind our logistic regression model."
   ]
  },
  {
   "cell_type": "code",
   "execution_count": 405,
   "id": "0bb1a778",
   "metadata": {},
   "outputs": [],
   "source": [
    "X = final_pred_model[['bank_balance_at_loan2','avg_trans_amt','no_trans','average_salary','no_of_inhabitants',\n",
    "        'unemployment_rate','no_of_entrepreneurs','no_of_crime','male','female','prague']]\n",
    "y = final_pred_model['loan_taken']"
   ]
  },
  {
   "cell_type": "code",
   "execution_count": 406,
   "id": "09746107",
   "metadata": {},
   "outputs": [],
   "source": [
    "X_train, X_test, y_train, y_test = train_test_split(X, y, test_size=0.33, random_state=42)"
   ]
  },
  {
   "cell_type": "code",
   "execution_count": 407,
   "id": "cef18572",
   "metadata": {},
   "outputs": [
    {
     "data": {
      "text/plain": [
       "LogisticRegression()"
      ]
     },
     "execution_count": 407,
     "metadata": {},
     "output_type": "execute_result"
    }
   ],
   "source": [
    "logmodel = LogisticRegression()\n",
    "logmodel.fit(X_train,y_train)"
   ]
  },
  {
   "cell_type": "code",
   "execution_count": 408,
   "id": "cf83b240",
   "metadata": {},
   "outputs": [],
   "source": [
    "predictions = logmodel.predict(X_train)"
   ]
  },
  {
   "cell_type": "code",
   "execution_count": 409,
   "id": "6e8f2edc",
   "metadata": {},
   "outputs": [
    {
     "name": "stdout",
     "output_type": "stream",
     "text": [
      "              precision    recall  f1-score   support\n",
      "\n",
      "           0       0.91      0.96      0.94      2567\n",
      "           1       0.70      0.48      0.57       448\n",
      "\n",
      "    accuracy                           0.89      3015\n",
      "   macro avg       0.81      0.72      0.76      3015\n",
      "weighted avg       0.88      0.89      0.88      3015\n",
      "\n"
     ]
    }
   ],
   "source": [
    "print(classification_report(y_train,predictions))"
   ]
  },
  {
   "cell_type": "markdown",
   "id": "509ae154",
   "metadata": {},
   "source": [
    "Model 2 has a high accuracy at 89% but has an issue in correctly identifying loan customers. Out of all the loan customers, the model has only correctly predicted 48% of them."
   ]
  },
  {
   "cell_type": "code",
   "execution_count": 410,
   "id": "2314ee60",
   "metadata": {
    "scrolled": false
   },
   "outputs": [
    {
     "name": "stdout",
     "output_type": "stream",
     "text": [
      "Optimization terminated successfully.\n",
      "         Current function value: 0.237738\n",
      "         Iterations 9\n",
      "                            Results: Logit\n",
      "======================================================================\n",
      "Model:                Logit             Pseudo R-squared:  0.434      \n",
      "Dependent Variable:   loan_taken        AIC:               1455.5619  \n",
      "Date:                 2022-04-05 21:10  BIC:               1521.6868  \n",
      "No. Observations:     3015              Log-Likelihood:    -716.78    \n",
      "Df Model:             10                LL-Null:           -1267.1    \n",
      "Df Residuals:         3004              LLR p-value:       3.9521e-230\n",
      "Converged:            1.0000            Scale:             1.0000     \n",
      "No. Iterations:       9.0000                                          \n",
      "----------------------------------------------------------------------\n",
      "                       Coef.  Std.Err.    z     P>|z|   [0.025  0.975]\n",
      "----------------------------------------------------------------------\n",
      "bank_balance_at_loan2 -0.0000   0.0000  -4.2781 0.0000 -0.0000 -0.0000\n",
      "avg_trans_amt          0.0003   0.0000  14.7278 0.0000  0.0002  0.0003\n",
      "no_trans              -0.0236   0.0014 -17.1868 0.0000 -0.0263 -0.0209\n",
      "average_salary        -0.0001   0.0001  -0.8258 0.4089 -0.0004  0.0002\n",
      "no_of_inhabitants      0.0000   0.0000   1.7042 0.0884 -0.0000  0.0000\n",
      "unemployment_rate     -0.0383   0.0546  -0.7026 0.4823 -0.1453  0.0686\n",
      "no_of_entrepreneurs   -0.0022   0.0055  -0.4073 0.6838 -0.0130  0.0086\n",
      "no_of_crime           -0.0001   0.0000  -1.0674 0.2858 -0.0002  0.0000\n",
      "male                   0.9087   1.3449   0.6757 0.4993 -1.7272  3.5446\n",
      "female                 1.0350   1.3459   0.7690 0.4419 -1.6028  3.6729\n",
      "prague                 0.8690   2.3299   0.3730 0.7092 -3.6976  5.4356\n",
      "======================================================================\n",
      "\n"
     ]
    }
   ],
   "source": [
    "import statsmodels.api as sm\n",
    "logit_model=sm.Logit(y_train,X_train)\n",
    "result=logit_model.fit()\n",
    "print(result.summary2())"
   ]
  },
  {
   "cell_type": "code",
   "execution_count": 411,
   "id": "96c39dc7",
   "metadata": {},
   "outputs": [
    {
     "name": "stdout",
     "output_type": "stream",
     "text": [
      "Feature: 0, Score: -0.00001\n",
      "Feature: 1, Score: 0.00027\n",
      "Feature: 2, Score: -0.02351\n",
      "Feature: 3, Score: -0.00004\n",
      "Feature: 4, Score: 0.00000\n",
      "Feature: 5, Score: -0.00002\n",
      "Feature: 6, Score: -0.00009\n",
      "Feature: 7, Score: -0.00004\n",
      "Feature: 8, Score: -0.00001\n",
      "Feature: 9, Score: 0.00001\n",
      "Feature: 10, Score: -0.00000\n"
     ]
    }
   ],
   "source": [
    "importance = logmodel.coef_[0]\n",
    "for i,v in enumerate(importance):\n",
    "    print('Feature: %0d, Score: %.5f' % (i,v))"
   ]
  },
  {
   "cell_type": "code",
   "execution_count": 412,
   "id": "d278a918",
   "metadata": {},
   "outputs": [
    {
     "data": {
      "image/png": "[encoded data removed]",
      "text/plain": [
       "<Figure size 432x288 with 1 Axes>"
      ]
     },
     "metadata": {
      "needs_background": "light"
     },
     "output_type": "display_data"
    }
   ],
   "source": [
    "pyplot.bar([x for x in range(len(importance))], importance)\n",
    "pyplot.show()"
   ]
  },
  {
   "cell_type": "markdown",
   "id": "fdbb1a91",
   "metadata": {},
   "source": [
    "From the model statistics, there are still a few features that needs to be dropped as they do not aid in the prediction of loan taken up. These features have a p-value of greater than 0.05\n",
    "</br>\n",
    "\n",
    "When we plot the features importance on a chart, we can see that feature 3 is the most important feature to predict loan taken up. The feature is the number of transactions made. If we were to think logically, there should be no relationship between number of transactions made and loan taken. We can perform a univariate analysis on this feature to assess further."
   ]
  },
  {
   "cell_type": "code",
   "execution_count": 413,
   "id": "be48ac9c",
   "metadata": {
    "scrolled": true
   },
   "outputs": [
    {
     "data": {
      "text/plain": [
       "loan_taken\n",
       "0    283.613084\n",
       "1     92.887574\n",
       "Name: no_trans, dtype: float64"
      ]
     },
     "execution_count": 413,
     "metadata": {},
     "output_type": "execute_result"
    }
   ],
   "source": [
    "final_pred_model.groupby(['loan_taken','no_trans'], as_index=False).mean().groupby('loan_taken')['no_trans'].mean()"
   ]
  },
  {
   "cell_type": "markdown",
   "id": "146fdd4d",
   "metadata": {},
   "source": [
    "The number of transactions made by our non-loan customers are significantly higher than our loan customers. The derivation of number of transactions for non-loan customers is using the number of transactions made during the lifetime of the customers. The derivation of number of transactions for loan customers on the other hand is using the number of transactions made as at the loan date.\n",
    "</br>\n",
    "\n",
    "The number of transactions made during a lifetime of a customer will definitely be higher resulting in the non-loan customers having a much higher number of transactions made. This resulted in the logistic regression model predicting that the lower the number of transactions made, the higher the probability of a customer taking up a loan with us.\n",
    "</br>\n",
    "\n",
    "This feature is not representative of a true relationship and cannot be used to predict future loan customers. Hence this feature should be dropped."
   ]
  },
  {
   "cell_type": "markdown",
   "id": "c752a75c",
   "metadata": {},
   "source": [
    "## Model 3 - Further Feature Reduction\n",
    "On top of removing the number of transactions feature, we will also remove the features with p-values greater than 0.05. This leaves us with 3 features (bank balance, average transaction and average salary)."
   ]
  },
  {
   "cell_type": "markdown",
   "id": "095c25a4",
   "metadata": {},
   "source": [
    "**Analyzing results of train set**"
   ]
  },
  {
   "cell_type": "code",
   "execution_count": 414,
   "id": "04a8b2c4",
   "metadata": {},
   "outputs": [],
   "source": [
    "X = final_pred_model[['bank_balance_at_loan2','avg_trans_amt','average_salary']]\n",
    "y = final_pred_model['loan_taken']"
   ]
  },
  {
   "cell_type": "code",
   "execution_count": 415,
   "id": "9af9a337",
   "metadata": {},
   "outputs": [],
   "source": [
    "X_train, X_test, y_train, y_test = train_test_split(X, y, test_size=0.33, random_state=42)"
   ]
  },
  {
   "cell_type": "code",
   "execution_count": 416,
   "id": "e6e3da80",
   "metadata": {},
   "outputs": [
    {
     "data": {
      "text/plain": [
       "LogisticRegression()"
      ]
     },
     "execution_count": 416,
     "metadata": {},
     "output_type": "execute_result"
    }
   ],
   "source": [
    "logmodel = LogisticRegression()\n",
    "logmodel.fit(X_train,y_train)"
   ]
  },
  {
   "cell_type": "code",
   "execution_count": 417,
   "id": "1734c53d",
   "metadata": {},
   "outputs": [],
   "source": [
    "predictions = logmodel.predict(X_train)"
   ]
  },
  {
   "cell_type": "code",
   "execution_count": 418,
   "id": "2881d0c9",
   "metadata": {
    "scrolled": false
   },
   "outputs": [
    {
     "name": "stdout",
     "output_type": "stream",
     "text": [
      "              precision    recall  f1-score   support\n",
      "\n",
      "           0       0.87      0.97      0.92      2567\n",
      "           1       0.46      0.16      0.24       448\n",
      "\n",
      "    accuracy                           0.85      3015\n",
      "   macro avg       0.67      0.56      0.58      3015\n",
      "weighted avg       0.81      0.85      0.81      3015\n",
      "\n"
     ]
    }
   ],
   "source": [
    "print(classification_report(y_train,predictions))"
   ]
  },
  {
   "cell_type": "markdown",
   "id": "62257645",
   "metadata": {},
   "source": [
    "The classification report shows that the train model has a high accuracy at 85%. However, the model weakness is in the recall at 15%. This is due to the imbalance of target classes with loan customers accounting for about 15% of the total customers.\n",
    "</br>\n",
    "\n",
    "Among all the loan customers, the model is only accurately identifying 16% of them. As our model's function is to predict loan taken, this a significant weakness and the model has to be fine-tuned further."
   ]
  },
  {
   "cell_type": "code",
   "execution_count": 419,
   "id": "0897455d",
   "metadata": {
    "scrolled": false
   },
   "outputs": [
    {
     "name": "stdout",
     "output_type": "stream",
     "text": [
      "Optimization terminated successfully.\n",
      "         Current function value: 0.357086\n",
      "         Iterations 6\n",
      "                            Results: Logit\n",
      "======================================================================\n",
      "Model:                 Logit             Pseudo R-squared:  0.150     \n",
      "Dependent Variable:    loan_taken        AIC:               2159.2256 \n",
      "Date:                  2022-04-05 21:10  BIC:               2177.2597 \n",
      "No. Observations:      3015              Log-Likelihood:    -1076.6   \n",
      "Df Model:              2                 LL-Null:           -1267.1   \n",
      "Df Residuals:          3012              LLR p-value:       1.9253e-83\n",
      "Converged:             1.0000            Scale:             1.0000    \n",
      "No. Iterations:        6.0000                                         \n",
      "----------------------------------------------------------------------\n",
      "                       Coef.  Std.Err.    z     P>|z|   [0.025  0.975]\n",
      "----------------------------------------------------------------------\n",
      "bank_balance_at_loan2 -0.0000   0.0000  -9.8683 0.0000 -0.0000 -0.0000\n",
      "avg_trans_amt          0.0003   0.0000  18.5337 0.0000  0.0002  0.0003\n",
      "average_salary        -0.0003   0.0000 -19.9622 0.0000 -0.0003 -0.0002\n",
      "======================================================================\n",
      "\n"
     ]
    }
   ],
   "source": [
    "import statsmodels.api as sm\n",
    "logit_model=sm.Logit(y_train,X_train)\n",
    "result=logit_model.fit()\n",
    "print(result.summary2())"
   ]
  },
  {
   "cell_type": "markdown",
   "id": "f9c817e2",
   "metadata": {},
   "source": [
    "From the model statstics, all the features have a p-value of less than 0.05. This shows that all the features have a linear relationship with loan taken up."
   ]
  },
  {
   "cell_type": "code",
   "execution_count": 420,
   "id": "d3053686",
   "metadata": {},
   "outputs": [
    {
     "name": "stdout",
     "output_type": "stream",
     "text": [
      "Feature: 0, Score: -0.00002\n",
      "Feature: 1, Score: 0.00025\n",
      "Feature: 2, Score: -0.00026\n"
     ]
    }
   ],
   "source": [
    "importance = logmodel.coef_[0]\n",
    "for i,v in enumerate(importance):\n",
    "    print('Feature: %0d, Score: %.5f' % (i,v))"
   ]
  },
  {
   "cell_type": "code",
   "execution_count": 421,
   "id": "20b34ac2",
   "metadata": {
    "scrolled": false
   },
   "outputs": [
    {
     "data": {
      "image/png": "[encoded data removed]",
      "text/plain": [
       "<Figure size 432x288 with 1 Axes>"
      ]
     },
     "metadata": {
      "needs_background": "light"
     },
     "output_type": "display_data"
    }
   ],
   "source": [
    "pyplot.bar([x for x in range(len(importance))], importance)\n",
    "pyplot.show()"
   ]
  },
  {
   "cell_type": "markdown",
   "id": "6433f16b",
   "metadata": {},
   "source": [
    "The feature ranking is as follows:\n",
    "1. Average Salary\n",
    "2. Average Transaction Amount\n",
    "3. Bank Balance at Loan"
   ]
  },
  {
   "cell_type": "markdown",
   "id": "7c130986",
   "metadata": {},
   "source": [
    "**Analyzing results of test set**"
   ]
  },
  {
   "cell_type": "code",
   "execution_count": 422,
   "id": "868ed427",
   "metadata": {},
   "outputs": [
    {
     "data": {
      "text/plain": [
       "LogisticRegression()"
      ]
     },
     "execution_count": 422,
     "metadata": {},
     "output_type": "execute_result"
    }
   ],
   "source": [
    "logmodel = LogisticRegression()\n",
    "logmodel.fit(X_test,y_test)"
   ]
  },
  {
   "cell_type": "code",
   "execution_count": 423,
   "id": "9df5bfcd",
   "metadata": {},
   "outputs": [],
   "source": [
    "predictions = logmodel.predict(X_test)"
   ]
  },
  {
   "cell_type": "markdown",
   "id": "5b60bc34",
   "metadata": {},
   "source": [
    "**a. Classification report**"
   ]
  },
  {
   "cell_type": "code",
   "execution_count": 424,
   "id": "19ac02b0",
   "metadata": {
    "scrolled": false
   },
   "outputs": [
    {
     "name": "stdout",
     "output_type": "stream",
     "text": [
      "              precision    recall  f1-score   support\n",
      "\n",
      "           0       0.86      0.96      0.91      1251\n",
      "           1       0.44      0.17      0.24       234\n",
      "\n",
      "    accuracy                           0.84      1485\n",
      "   macro avg       0.65      0.56      0.58      1485\n",
      "weighted avg       0.79      0.84      0.80      1485\n",
      "\n"
     ]
    }
   ],
   "source": [
    "print(classification_report(y_test,predictions))"
   ]
  },
  {
   "cell_type": "markdown",
   "id": "4d384a4e",
   "metadata": {},
   "source": [
    "The classification report shows that the test model has a high accuracy at 84%. However, the model weakness is in the recall at 17%. This is due to the imbalance of target classes with loan customers accounting for about 15% of the total customers.\n",
    "</br>\n",
    "\n",
    "Among all the loan customers, the model is only accurately identifying 17% of them. As our model's function is to predict loan taken. This a significant weakness and the model has to be fine tuned further."
   ]
  },
  {
   "cell_type": "markdown",
   "id": "c1a8953b",
   "metadata": {},
   "source": [
    "**b. Model statistics**"
   ]
  },
  {
   "cell_type": "code",
   "execution_count": 425,
   "id": "2168029f",
   "metadata": {
    "scrolled": false
   },
   "outputs": [
    {
     "name": "stdout",
     "output_type": "stream",
     "text": [
      "Optimization terminated successfully.\n",
      "         Current function value: 0.358949\n",
      "         Iterations 6\n",
      "                            Results: Logit\n",
      "======================================================================\n",
      "Model:                 Logit             Pseudo R-squared:  0.176     \n",
      "Dependent Variable:    loan_taken        AIC:               1072.0793 \n",
      "Date:                  2022-04-05 21:10  BIC:               1087.9888 \n",
      "No. Observations:      1485              Log-Likelihood:    -533.04   \n",
      "Df Model:              2                 LL-Null:           -646.91   \n",
      "Df Residuals:          1482              LLR p-value:       3.5302e-50\n",
      "Converged:             1.0000            Scale:             1.0000    \n",
      "No. Iterations:        6.0000                                         \n",
      "----------------------------------------------------------------------\n",
      "                       Coef.  Std.Err.    z     P>|z|   [0.025  0.975]\n",
      "----------------------------------------------------------------------\n",
      "bank_balance_at_loan2 -0.0000   0.0000  -7.5341 0.0000 -0.0000 -0.0000\n",
      "avg_trans_amt          0.0003   0.0000  13.6991 0.0000  0.0002  0.0003\n",
      "average_salary        -0.0003   0.0000 -13.8350 0.0000 -0.0003 -0.0002\n",
      "======================================================================\n",
      "\n"
     ]
    }
   ],
   "source": [
    "import statsmodels.api as sm\n",
    "logit_model=sm.Logit(y_test,X_test)\n",
    "result=logit_model.fit()\n",
    "print(result.summary2())"
   ]
  },
  {
   "cell_type": "markdown",
   "id": "a4ff0e9d",
   "metadata": {},
   "source": [
    "From the model statstics, all the features have a p-value of less than 0.05. This shows that they have a linear relationship with loan taken up."
   ]
  },
  {
   "cell_type": "markdown",
   "id": "d39bc375",
   "metadata": {},
   "source": [
    "**c. Calibration curve**"
   ]
  },
  {
   "cell_type": "code",
   "execution_count": 426,
   "id": "eb7c266d",
   "metadata": {},
   "outputs": [],
   "source": [
    "from sklearn.svm import SVC\n",
    "from sklearn.calibration import calibration_curve\n",
    "import matplotlib.pyplot as plt"
   ]
  },
  {
   "cell_type": "code",
   "execution_count": 427,
   "id": "6665f174",
   "metadata": {},
   "outputs": [
    {
     "data": {
      "text/plain": [
       "SVC(probability=True)"
      ]
     },
     "execution_count": 427,
     "metadata": {},
     "output_type": "execute_result"
    }
   ],
   "source": [
    "model = SVC(probability=True)\n",
    "model.fit(X_test, y_test)"
   ]
  },
  {
   "cell_type": "code",
   "execution_count": 428,
   "id": "3dd57836",
   "metadata": {},
   "outputs": [],
   "source": [
    "prob = model.decision_function(X_test)"
   ]
  },
  {
   "cell_type": "code",
   "execution_count": 429,
   "id": "b9905cb0",
   "metadata": {},
   "outputs": [],
   "source": [
    "x, y = calibration_curve(y_test, prob, n_bins = 10, normalize = True)"
   ]
  },
  {
   "cell_type": "code",
   "execution_count": 430,
   "id": "63fac63f",
   "metadata": {},
   "outputs": [
    {
     "data": {
      "image/png": "[encoded data removed]",
      "text/plain": [
       "<Figure size 432x288 with 1 Axes>"
      ]
     },
     "metadata": {
      "needs_background": "light"
     },
     "output_type": "display_data"
    }
   ],
   "source": [
    "# Plot calibration curve\n",
    " \n",
    "# Plot perfectly calibrated\n",
    "plt.plot([0, 1], [0, 1], linestyle = '--', label = 'Ideally Calibrated')\n",
    " \n",
    "# Plot model's calibration curve\n",
    "plt.plot(y, x, marker = '.', label = 'Support Vector Classifier')\n",
    " \n",
    "leg = plt.legend(loc = 'upper left')\n",
    "plt.xlabel('Average Predicted Probability in each bin')\n",
    "plt.ylabel('Ratio of positives')\n",
    "plt.show()"
   ]
  },
  {
   "cell_type": "markdown",
   "id": "0c3d476c",
   "metadata": {},
   "source": [
    "Calibration denotes the consistency between predicted probabilities and their actual frequencies observed on a test dataset. The better calibrated or more reliable a forecast, the closer the points will appear along the main diagonal from the bottom left to the top right of the plot. \n",
    "</br>\n",
    "\n",
    "As seen on the chart, our model is mainly on the bottom right of the chart which indicates that the model has over-forecasted; the probabilities are too large. In other words, the model has over forecasted the loan taken up."
   ]
  },
  {
   "cell_type": "markdown",
   "id": "883b57b4",
   "metadata": {},
   "source": [
    "**d. ROC curve**"
   ]
  },
  {
   "cell_type": "code",
   "execution_count": 431,
   "id": "23d98d2a",
   "metadata": {},
   "outputs": [],
   "source": [
    "import sklearn.metrics as metrics"
   ]
  },
  {
   "cell_type": "code",
   "execution_count": 432,
   "id": "c126b883",
   "metadata": {
    "scrolled": true
   },
   "outputs": [
    {
     "data": {
      "image/png": "[encoded data removed]",
      "text/plain": [
       "<Figure size 432x288 with 1 Axes>"
      ]
     },
     "metadata": {
      "needs_background": "light"
     },
     "output_type": "display_data"
    }
   ],
   "source": [
    "probs = model.predict_proba(X_test)\n",
    "preds = probs[:,1]\n",
    "fpr, tpr, threshold = metrics.roc_curve(y_test, preds)\n",
    "roc_auc = metrics.auc(fpr, tpr)\n",
    "\n",
    "# method I: plt\n",
    "import matplotlib.pyplot as plt\n",
    "plt.title('Receiver Operating Characteristic')\n",
    "plt.plot(fpr, tpr, 'b', label = 'AUC = %0.2f' % roc_auc)\n",
    "plt.legend(loc = 'lower right')\n",
    "plt.plot([0, 1], [0, 1],'r--')\n",
    "plt.xlim([0, 1])\n",
    "plt.ylim([0, 1])\n",
    "plt.ylabel('True Positive Rate')\n",
    "plt.xlabel('False Positive Rate')\n",
    "plt.show()"
   ]
  },
  {
   "cell_type": "markdown",
   "id": "78cdbe7f",
   "metadata": {},
   "source": [
    "The Receiver Operating Characteristic (or ROC) curve shows the true positive rate vs. the false positive resulting from different cutoffs in the predictive model. The \"faster\" the curve climbs, the better it is. On the contrary, a curve close to the diagonal line is worse. On our chart, the ROC curve has a gentle slope skewing to the top left of the chart. Therefore, there is still room for improvements on  the model.\n",
    "</br>\n",
    "\n",
    "The AUC (Area Under the Curve) for this model is 0.70 and represents acceptable discrimination.\n",
    "</br>\n",
    "\n",
    "ROC curves should be used when there are roughly equal numbers of observations for each class. (loan customers make up only 15% of our total customers). ROC curve with an imbalanced dataset might be deceptive and lead to incorrect interpretations of the model skill. The confusion matrix will be more useful to explain the performance of the model."
   ]
  },
  {
   "cell_type": "markdown",
   "id": "7eecea9a",
   "metadata": {},
   "source": [
    "## 5. Further Improvements\n",
    "Further enhancements can be made to improve the accuracy of the model. We can perform the following improvements:\n",
    "1. Average standard rescaling on the numeric features \n",
    "2. Split the dataset by using 'class rebalance'\n",
    "3. Weighting Strategy by assigning class weights"
   ]
  }
 ],
 "metadata": {
  "kernelspec": {
   "display_name": "Python 3 (ipykernel)",
   "language": "python",
   "name": "python3"
  },
  "language_info": {
   "codemirror_mode": {
    "name": "ipython",
    "version": 3
   },
   "file_extension": ".py",
   "mimetype": "text/x-python",
   "name": "python",
   "nbconvert_exporter": "python",
   "pygments_lexer": "ipython3",
   "version": "3.9.7"
  }
 },
 "nbformat": 4,
 "nbformat_minor": 5
}
